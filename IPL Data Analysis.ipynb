{
 "cells": [
  {
   "cell_type": "markdown",
   "id": "6ee9c98c",
   "metadata": {},
   "source": [
    "<h1 > <u>IPL DATA ANALYSIS</u> (2008-2022)</h1>"
   ]
  },
  {
   "cell_type": "markdown",
   "id": "7fb81456",
   "metadata": {},
   "source": [
    "## STEP 1: IMPORTING THE LIBRARIES"
   ]
  },
  {
   "cell_type": "code",
   "execution_count": 1,
   "id": "dc76976b",
   "metadata": {},
   "outputs": [],
   "source": [
    "import pandas as pd\n",
    "import numpy as np\n",
    "import matplotlib.pyplot as plt\n",
    "import seaborn as sns\n",
    "%matplotlib inline"
   ]
  },
  {
   "cell_type": "code",
   "execution_count": 2,
   "id": "328a3a43",
   "metadata": {},
   "outputs": [],
   "source": [
    "import warnings\n",
    "warnings.filterwarnings('ignore')"
   ]
  },
  {
   "cell_type": "markdown",
   "id": "3c24ddaf",
   "metadata": {},
   "source": [
    "## STEP 2: LOADING THE DATASET"
   ]
  },
  {
   "cell_type": "code",
   "execution_count": 3,
   "id": "f4d2ed34",
   "metadata": {},
   "outputs": [],
   "source": [
    "path=r'C:\\Users\\saish\\Downloads\\Work\\IPL/IPL_balL_2008_2022.csv'"
   ]
  },
  {
   "cell_type": "code",
   "execution_count": 4,
   "id": "6f0dba9a",
   "metadata": {},
   "outputs": [],
   "source": [
    "df=pd.read_csv(path)"
   ]
  },
  {
   "cell_type": "markdown",
   "id": "5d07986e",
   "metadata": {},
   "source": [
    "## STEP 3: EXPLORING THE DATASET"
   ]
  },
  {
   "cell_type": "code",
   "execution_count": 5,
   "id": "25d4606b",
   "metadata": {},
   "outputs": [
    {
     "data": {
      "text/html": [
       "<div>\n",
       "<style scoped>\n",
       "    .dataframe tbody tr th:only-of-type {\n",
       "        vertical-align: middle;\n",
       "    }\n",
       "\n",
       "    .dataframe tbody tr th {\n",
       "        vertical-align: top;\n",
       "    }\n",
       "\n",
       "    .dataframe thead th {\n",
       "        text-align: right;\n",
       "    }\n",
       "</style>\n",
       "<table border=\"1\" class=\"dataframe\">\n",
       "  <thead>\n",
       "    <tr style=\"text-align: right;\">\n",
       "      <th></th>\n",
       "      <th>ID</th>\n",
       "      <th>innings</th>\n",
       "      <th>overs</th>\n",
       "      <th>ballnumber</th>\n",
       "      <th>batter</th>\n",
       "      <th>bowler</th>\n",
       "      <th>non-striker</th>\n",
       "      <th>extra_type</th>\n",
       "      <th>batsman_run</th>\n",
       "      <th>extras_run</th>\n",
       "      <th>total_run</th>\n",
       "      <th>non_boundary</th>\n",
       "      <th>isWicketDelivery</th>\n",
       "      <th>player_out</th>\n",
       "      <th>kind</th>\n",
       "      <th>fielders_involved</th>\n",
       "      <th>BattingTeam</th>\n",
       "    </tr>\n",
       "  </thead>\n",
       "  <tbody>\n",
       "    <tr>\n",
       "      <th>0</th>\n",
       "      <td>1312200</td>\n",
       "      <td>1</td>\n",
       "      <td>0</td>\n",
       "      <td>1</td>\n",
       "      <td>YBK Jaiswal</td>\n",
       "      <td>Mohammed Shami</td>\n",
       "      <td>JC Buttler</td>\n",
       "      <td>NaN</td>\n",
       "      <td>0</td>\n",
       "      <td>0</td>\n",
       "      <td>0</td>\n",
       "      <td>0</td>\n",
       "      <td>0</td>\n",
       "      <td>NaN</td>\n",
       "      <td>NaN</td>\n",
       "      <td>NaN</td>\n",
       "      <td>Rajasthan Royals</td>\n",
       "    </tr>\n",
       "    <tr>\n",
       "      <th>1</th>\n",
       "      <td>1312200</td>\n",
       "      <td>1</td>\n",
       "      <td>0</td>\n",
       "      <td>2</td>\n",
       "      <td>YBK Jaiswal</td>\n",
       "      <td>Mohammed Shami</td>\n",
       "      <td>JC Buttler</td>\n",
       "      <td>legbyes</td>\n",
       "      <td>0</td>\n",
       "      <td>1</td>\n",
       "      <td>1</td>\n",
       "      <td>0</td>\n",
       "      <td>0</td>\n",
       "      <td>NaN</td>\n",
       "      <td>NaN</td>\n",
       "      <td>NaN</td>\n",
       "      <td>Rajasthan Royals</td>\n",
       "    </tr>\n",
       "    <tr>\n",
       "      <th>2</th>\n",
       "      <td>1312200</td>\n",
       "      <td>1</td>\n",
       "      <td>0</td>\n",
       "      <td>3</td>\n",
       "      <td>JC Buttler</td>\n",
       "      <td>Mohammed Shami</td>\n",
       "      <td>YBK Jaiswal</td>\n",
       "      <td>NaN</td>\n",
       "      <td>1</td>\n",
       "      <td>0</td>\n",
       "      <td>1</td>\n",
       "      <td>0</td>\n",
       "      <td>0</td>\n",
       "      <td>NaN</td>\n",
       "      <td>NaN</td>\n",
       "      <td>NaN</td>\n",
       "      <td>Rajasthan Royals</td>\n",
       "    </tr>\n",
       "    <tr>\n",
       "      <th>3</th>\n",
       "      <td>1312200</td>\n",
       "      <td>1</td>\n",
       "      <td>0</td>\n",
       "      <td>4</td>\n",
       "      <td>YBK Jaiswal</td>\n",
       "      <td>Mohammed Shami</td>\n",
       "      <td>JC Buttler</td>\n",
       "      <td>NaN</td>\n",
       "      <td>0</td>\n",
       "      <td>0</td>\n",
       "      <td>0</td>\n",
       "      <td>0</td>\n",
       "      <td>0</td>\n",
       "      <td>NaN</td>\n",
       "      <td>NaN</td>\n",
       "      <td>NaN</td>\n",
       "      <td>Rajasthan Royals</td>\n",
       "    </tr>\n",
       "    <tr>\n",
       "      <th>4</th>\n",
       "      <td>1312200</td>\n",
       "      <td>1</td>\n",
       "      <td>0</td>\n",
       "      <td>5</td>\n",
       "      <td>YBK Jaiswal</td>\n",
       "      <td>Mohammed Shami</td>\n",
       "      <td>JC Buttler</td>\n",
       "      <td>NaN</td>\n",
       "      <td>0</td>\n",
       "      <td>0</td>\n",
       "      <td>0</td>\n",
       "      <td>0</td>\n",
       "      <td>0</td>\n",
       "      <td>NaN</td>\n",
       "      <td>NaN</td>\n",
       "      <td>NaN</td>\n",
       "      <td>Rajasthan Royals</td>\n",
       "    </tr>\n",
       "  </tbody>\n",
       "</table>\n",
       "</div>"
      ],
      "text/plain": [
       "        ID  innings  overs  ballnumber       batter          bowler  \\\n",
       "0  1312200        1      0           1  YBK Jaiswal  Mohammed Shami   \n",
       "1  1312200        1      0           2  YBK Jaiswal  Mohammed Shami   \n",
       "2  1312200        1      0           3   JC Buttler  Mohammed Shami   \n",
       "3  1312200        1      0           4  YBK Jaiswal  Mohammed Shami   \n",
       "4  1312200        1      0           5  YBK Jaiswal  Mohammed Shami   \n",
       "\n",
       "   non-striker extra_type  batsman_run  extras_run  total_run  non_boundary  \\\n",
       "0   JC Buttler        NaN            0           0          0             0   \n",
       "1   JC Buttler    legbyes            0           1          1             0   \n",
       "2  YBK Jaiswal        NaN            1           0          1             0   \n",
       "3   JC Buttler        NaN            0           0          0             0   \n",
       "4   JC Buttler        NaN            0           0          0             0   \n",
       "\n",
       "   isWicketDelivery player_out kind fielders_involved       BattingTeam  \n",
       "0                 0        NaN  NaN               NaN  Rajasthan Royals  \n",
       "1                 0        NaN  NaN               NaN  Rajasthan Royals  \n",
       "2                 0        NaN  NaN               NaN  Rajasthan Royals  \n",
       "3                 0        NaN  NaN               NaN  Rajasthan Royals  \n",
       "4                 0        NaN  NaN               NaN  Rajasthan Royals  "
      ]
     },
     "execution_count": 5,
     "metadata": {},
     "output_type": "execute_result"
    }
   ],
   "source": [
    "df.head()"
   ]
  },
  {
   "cell_type": "code",
   "execution_count": 6,
   "id": "803fd832",
   "metadata": {},
   "outputs": [
    {
     "name": "stdout",
     "output_type": "stream",
     "text": [
      "<class 'pandas.core.frame.DataFrame'>\n",
      "RangeIndex: 225954 entries, 0 to 225953\n",
      "Data columns (total 17 columns):\n",
      " #   Column             Non-Null Count   Dtype \n",
      "---  ------             --------------   ----- \n",
      " 0   ID                 225954 non-null  int64 \n",
      " 1   innings            225954 non-null  int64 \n",
      " 2   overs              225954 non-null  int64 \n",
      " 3   ballnumber         225954 non-null  int64 \n",
      " 4   batter             225954 non-null  object\n",
      " 5   bowler             225954 non-null  object\n",
      " 6   non-striker        225954 non-null  object\n",
      " 7   extra_type         12049 non-null   object\n",
      " 8   batsman_run        225954 non-null  int64 \n",
      " 9   extras_run         225954 non-null  int64 \n",
      " 10  total_run          225954 non-null  int64 \n",
      " 11  non_boundary       225954 non-null  int64 \n",
      " 12  isWicketDelivery   225954 non-null  int64 \n",
      " 13  player_out         11151 non-null   object\n",
      " 14  kind               11151 non-null   object\n",
      " 15  fielders_involved  7988 non-null    object\n",
      " 16  BattingTeam        225954 non-null  object\n",
      "dtypes: int64(9), object(8)\n",
      "memory usage: 29.3+ MB\n"
     ]
    }
   ],
   "source": [
    "df.info()"
   ]
  },
  {
   "cell_type": "code",
   "execution_count": 7,
   "id": "dfd29d8c",
   "metadata": {},
   "outputs": [
    {
     "data": {
      "text/html": [
       "<div>\n",
       "<style scoped>\n",
       "    .dataframe tbody tr th:only-of-type {\n",
       "        vertical-align: middle;\n",
       "    }\n",
       "\n",
       "    .dataframe tbody tr th {\n",
       "        vertical-align: top;\n",
       "    }\n",
       "\n",
       "    .dataframe thead th {\n",
       "        text-align: right;\n",
       "    }\n",
       "</style>\n",
       "<table border=\"1\" class=\"dataframe\">\n",
       "  <thead>\n",
       "    <tr style=\"text-align: right;\">\n",
       "      <th></th>\n",
       "      <th>ID</th>\n",
       "      <th>innings</th>\n",
       "      <th>overs</th>\n",
       "      <th>ballnumber</th>\n",
       "      <th>batsman_run</th>\n",
       "      <th>extras_run</th>\n",
       "      <th>total_run</th>\n",
       "      <th>non_boundary</th>\n",
       "      <th>isWicketDelivery</th>\n",
       "    </tr>\n",
       "  </thead>\n",
       "  <tbody>\n",
       "    <tr>\n",
       "      <th>count</th>\n",
       "      <td>2.259540e+05</td>\n",
       "      <td>225954.000000</td>\n",
       "      <td>225954.000000</td>\n",
       "      <td>225954.000000</td>\n",
       "      <td>225954.000000</td>\n",
       "      <td>225954.000000</td>\n",
       "      <td>225954.00000</td>\n",
       "      <td>225954.000000</td>\n",
       "      <td>225954.000000</td>\n",
       "    </tr>\n",
       "    <tr>\n",
       "      <th>mean</th>\n",
       "      <td>8.320470e+05</td>\n",
       "      <td>1.483868</td>\n",
       "      <td>9.185679</td>\n",
       "      <td>3.619750</td>\n",
       "      <td>1.243523</td>\n",
       "      <td>0.066907</td>\n",
       "      <td>1.31043</td>\n",
       "      <td>0.000093</td>\n",
       "      <td>0.049351</td>\n",
       "    </tr>\n",
       "    <tr>\n",
       "      <th>std</th>\n",
       "      <td>3.379542e+05</td>\n",
       "      <td>0.503104</td>\n",
       "      <td>5.681797</td>\n",
       "      <td>1.810633</td>\n",
       "      <td>1.618166</td>\n",
       "      <td>0.341470</td>\n",
       "      <td>1.60605</td>\n",
       "      <td>0.009640</td>\n",
       "      <td>0.216600</td>\n",
       "    </tr>\n",
       "    <tr>\n",
       "      <th>min</th>\n",
       "      <td>3.359820e+05</td>\n",
       "      <td>1.000000</td>\n",
       "      <td>0.000000</td>\n",
       "      <td>1.000000</td>\n",
       "      <td>0.000000</td>\n",
       "      <td>0.000000</td>\n",
       "      <td>0.00000</td>\n",
       "      <td>0.000000</td>\n",
       "      <td>0.000000</td>\n",
       "    </tr>\n",
       "    <tr>\n",
       "      <th>25%</th>\n",
       "      <td>5.012620e+05</td>\n",
       "      <td>1.000000</td>\n",
       "      <td>4.000000</td>\n",
       "      <td>2.000000</td>\n",
       "      <td>0.000000</td>\n",
       "      <td>0.000000</td>\n",
       "      <td>0.00000</td>\n",
       "      <td>0.000000</td>\n",
       "      <td>0.000000</td>\n",
       "    </tr>\n",
       "    <tr>\n",
       "      <th>50%</th>\n",
       "      <td>8.297370e+05</td>\n",
       "      <td>1.000000</td>\n",
       "      <td>9.000000</td>\n",
       "      <td>4.000000</td>\n",
       "      <td>1.000000</td>\n",
       "      <td>0.000000</td>\n",
       "      <td>1.00000</td>\n",
       "      <td>0.000000</td>\n",
       "      <td>0.000000</td>\n",
       "    </tr>\n",
       "    <tr>\n",
       "      <th>75%</th>\n",
       "      <td>1.178395e+06</td>\n",
       "      <td>2.000000</td>\n",
       "      <td>14.000000</td>\n",
       "      <td>5.000000</td>\n",
       "      <td>1.000000</td>\n",
       "      <td>0.000000</td>\n",
       "      <td>1.00000</td>\n",
       "      <td>0.000000</td>\n",
       "      <td>0.000000</td>\n",
       "    </tr>\n",
       "    <tr>\n",
       "      <th>max</th>\n",
       "      <td>1.312200e+06</td>\n",
       "      <td>6.000000</td>\n",
       "      <td>19.000000</td>\n",
       "      <td>10.000000</td>\n",
       "      <td>6.000000</td>\n",
       "      <td>7.000000</td>\n",
       "      <td>7.00000</td>\n",
       "      <td>1.000000</td>\n",
       "      <td>1.000000</td>\n",
       "    </tr>\n",
       "  </tbody>\n",
       "</table>\n",
       "</div>"
      ],
      "text/plain": [
       "                 ID        innings          overs     ballnumber  \\\n",
       "count  2.259540e+05  225954.000000  225954.000000  225954.000000   \n",
       "mean   8.320470e+05       1.483868       9.185679       3.619750   \n",
       "std    3.379542e+05       0.503104       5.681797       1.810633   \n",
       "min    3.359820e+05       1.000000       0.000000       1.000000   \n",
       "25%    5.012620e+05       1.000000       4.000000       2.000000   \n",
       "50%    8.297370e+05       1.000000       9.000000       4.000000   \n",
       "75%    1.178395e+06       2.000000      14.000000       5.000000   \n",
       "max    1.312200e+06       6.000000      19.000000      10.000000   \n",
       "\n",
       "         batsman_run     extras_run     total_run   non_boundary  \\\n",
       "count  225954.000000  225954.000000  225954.00000  225954.000000   \n",
       "mean        1.243523       0.066907       1.31043       0.000093   \n",
       "std         1.618166       0.341470       1.60605       0.009640   \n",
       "min         0.000000       0.000000       0.00000       0.000000   \n",
       "25%         0.000000       0.000000       0.00000       0.000000   \n",
       "50%         1.000000       0.000000       1.00000       0.000000   \n",
       "75%         1.000000       0.000000       1.00000       0.000000   \n",
       "max         6.000000       7.000000       7.00000       1.000000   \n",
       "\n",
       "       isWicketDelivery  \n",
       "count     225954.000000  \n",
       "mean           0.049351  \n",
       "std            0.216600  \n",
       "min            0.000000  \n",
       "25%            0.000000  \n",
       "50%            0.000000  \n",
       "75%            0.000000  \n",
       "max            1.000000  "
      ]
     },
     "execution_count": 7,
     "metadata": {},
     "output_type": "execute_result"
    }
   ],
   "source": [
    "df.describe()"
   ]
  },
  {
   "cell_type": "markdown",
   "id": "5949e622",
   "metadata": {},
   "source": [
    "## STEP 4: FINDING INSIGHTS ON VIRAT KOHLI's STATISTICS"
   ]
  },
  {
   "cell_type": "code",
   "execution_count": 8,
   "id": "9d90da66",
   "metadata": {},
   "outputs": [
    {
     "data": {
      "text/plain": [
       "array(['YBK Jaiswal', 'JC Buttler', 'SV Samson', 'D Padikkal',\n",
       "       'SO Hetmyer', 'R Ashwin', 'R Parag', 'TA Boult', 'OC McCoy',\n",
       "       'WP Saha', 'Shubman Gill', 'MS Wade', 'HH Pandya', 'DA Miller',\n",
       "       'V Kohli', 'F du Plessis', 'RM Patidar', 'GJ Maxwell', 'MK Lomror',\n",
       "       'KD Karthik', 'Shahbaz Ahmed', 'PWH de Silva', 'HV Patel',\n",
       "       'JR Hazlewood', 'Q de Kock', 'KL Rahul', 'M Vohra', 'DJ Hooda',\n",
       "       'MP Stoinis', 'E Lewis', 'KH Pandya', 'PVD Chameera', 'PK Garg',\n",
       "       'Abhishek Sharma', 'RA Tripathi', 'AK Markram', 'N Pooran',\n",
       "       'Washington Sundar', 'R Shepherd', 'J Suchith', 'B Kumar',\n",
       "       'Umran Malik', 'JM Bairstow', 'S Dhawan', 'M Shahrukh Khan',\n",
       "       'MA Agarwal', 'LS Livingstone', 'JM Sharma', 'PN Mankad',\n",
       "       'PP Shaw', 'DA Warner', 'MR Marsh', 'RR Pant', 'SN Khan',\n",
       "       'R Powell', 'AR Patel', 'SN Thakur', 'Kuldeep Yadav',\n",
       "       'Ishan Kishan', 'RG Sharma', 'D Brevis', 'Tilak Varma', 'TH David',\n",
       "       'Ramandeep Singh', 'DR Sams', 'RD Gaikwad', 'DP Conway', 'MM Ali',\n",
       "       'N Jagadeesan', 'AT Rayudu', 'MS Dhoni', 'Simarjeet Singh',\n",
       "       'MJ Santner', 'R Tewatia', 'Rashid Khan', 'VR Iyer', 'N Rana',\n",
       "       'A Tomar', 'SS Iyer', 'SW Billings', 'AD Russell', 'RK Singh',\n",
       "       'SP Narine', 'UT Yadav', 'KS Williamson', 'T Stubbs',\n",
       "       'R Sanjay Yadav', 'JJ Bumrah', 'Lalit Yadav', 'PBB Rajapaksa',\n",
       "       'Harpreet Brar', 'R Dhawan', 'RD Chahar', 'K Rabada',\n",
       "       'Arshdeep Singh', 'JDS Neesham', 'A Badoni', 'JO Holder',\n",
       "       'Mohsin Khan', 'Avesh Khan', 'S Dube', 'AM Rahane',\n",
       "       'Shashank Singh', 'M Jansen', 'Mohammed Siraj', 'RV Uthappa',\n",
       "       'DJ Bravo', 'M Theekshana', 'Mukesh Choudhary', 'HR Shokeen',\n",
       "       'HE van der Dussen', 'KS Bharat', 'KS Sharma', 'SP Jackson',\n",
       "       'PJ Cummins', 'TG Southee', 'KA Pollard', 'M Ashwin',\n",
       "       'K Kartikeya', 'RP Meredith', 'RV Patel', 'A Nortje', 'KK Ahmed',\n",
       "       'Kartik Tyagi', 'Fazalhaq Farooqi', 'B Indrajith', 'AJ Finch',\n",
       "       'AS Roy', 'Shivam Mavi', 'Harshit Rana', 'SA Yadav',\n",
       "       'B Sai Sudharsan', 'Mandeep Singh', 'SA Abbott', 'S Gopal',\n",
       "       'RA Jadeja', 'D Pretorius', 'PJ Sangwan', 'LH Ferguson',\n",
       "       'AS Joseph', 'KK Nair', 'DJ Mitchell', 'A Manohar',\n",
       "       'M Prasidh Krishna', 'SS Prabhudessai', 'MK Pandey', 'JD Unadkat',\n",
       "       'Anuj Rawat', 'Yash Dayal', 'NT Ellis', 'VG Arora', 'Ravi Bishnoi',\n",
       "       'CV Varun', 'V Shankar', 'P Simran Singh', 'OF Smith', 'FA Allen',\n",
       "       'TS Mills', 'Aman Hakim Khan', 'YS Chahal', 'KR Sen', 'Akash Deep',\n",
       "       'K Gowtham', 'Rasikh Salam', 'CJ Jordan', 'DJ Willey',\n",
       "       'SE Rutherford', 'Abdul Samad', 'TL Seifert', 'Mustafizur Rahman',\n",
       "       'Navdeep Saini', 'Anmolpreet Singh', 'RA Bawa', 'NM Coulter-Nile',\n",
       "       'EJG Morgan', 'Shakib Al Hasan', 'AB de Villiers', 'DT Christian',\n",
       "       'TK Curran', 'SK Raina', 'SS Tiwary', 'J Yadav', 'SPD Smith',\n",
       "       'CH Morris', 'C Sakariya', 'JJ Roy', 'S Kaul', 'KA Jamieson',\n",
       "       'AF Milne', 'CH Gayle', 'KM Jadhav', 'GD Phillips',\n",
       "       'Sandeep Sharma', 'SM Curran', 'DL Chahar', 'T Shamsi',\n",
       "       'GHS Garton', 'MC Henriques', 'K Yadav', 'PP Chawla',\n",
       "       'Mohammad Nabi', 'Sachin Baby', 'DJ Malan', 'Mohammed Shami',\n",
       "       'Virat Singh', 'KL Nagarkoti', 'Harbhajan Singh',\n",
       "       'Mujeeb Ur Rahman', 'JA Richardson', 'CR Woakes', 'S Nadeem',\n",
       "       'BA Stokes', 'CA Lynn', 'SP Goswami', 'Gurkeerat Singh',\n",
       "       'AT Carey', 'JC Archer', 'SS Cottrell', 'T Banton', 'M Vijay',\n",
       "       'SR Watson', 'P Dubey', 'JR Philippe', 'T Natarajan', 'I Udana',\n",
       "       'VR Aaron', 'TU Deshpande', 'Imran Tahir', 'AS Rajpoot',\n",
       "       'DW Steyn', 'NS Naik', 'AJ Tye', 'JL Pattinson', 'DS Kulkarni',\n",
       "       'MJ McClenaghan', 'C Munro', 'KMA Paul', 'A Mishra', 'I Sharma',\n",
       "       'MJ Guptill', 'Basil Thampi', 'YK Pathan', 'PA Patel',\n",
       "       'C de Grandhomme', 'STR Binny', 'IS Sodhi', 'CA Ingram',\n",
       "       'H Klaasen', 'P Negi', 'BB Sran', 'AJ Turner', 'DR Shorey',\n",
       "       'CR Brathwaite', 'AD Nath', 'GC Viljoen', 'Y Prithvi Raj',\n",
       "       'KC Cariappa', 'BCJ Cutting', 'RK Bhui', 'JL Denly', 'SD Lad',\n",
       "       'HF Gurney', 'Yuvraj Singh', 'MM Sharma', 'GH Vihari',\n",
       "       'S Lamichhane', 'P Ray Barman', 'M Markande',\n",
       "       'JPR Scantlebury-Searles', 'MK Tiwary', 'AD Hales',\n",
       "       'Anureet Singh', 'DJM Short', 'P Chopra', 'JP Duminy', 'NV Ojha',\n",
       "       'BB McCullum', 'LE Plunkett', 'MG Johnson', 'CJ Anderson',\n",
       "       'G Gambhir', 'B Laughlin', 'A Dananjaya', 'B Stanlake',\n",
       "       'R Vinay Kumar', 'MA Wood', 'LMP Simmons', 'KV Sharma', 'IR Jaggi',\n",
       "       'Bipul Sharma', 'SL Malinga', 'Vishnu Vinod', 'TM Head',\n",
       "       'MN Samuels', 'Z Khan', 'SE Marsh', 'Swapnil Singh', 'DR Smith',\n",
       "       'JP Faulkner', 'Ankit Soni', 'P Kumar', 'MM Patel', 'HM Amla',\n",
       "       'S Aravind', 'S Badree', 'A Choudhary', 'IK Pathan', 'AR Bawne',\n",
       "       'DM Bravo', 'AP Tare', 'AD Mathews', 'Ankit Sharma', 'R Bhatia',\n",
       "       'A Zampa', 'AB Dinda', 'Iqbal Abdulla', 'ER Dwivedi', 'R Sathish',\n",
       "       'SB Jakati', 'F Behardien', 'KJ Abbott', 'UT Khawaja', 'GJ Bailey',\n",
       "       'NLTC Perera', 'M Morkel', 'PV Tambe', 'S Kaushik', 'UBT Chand',\n",
       "       'A Nehra', 'PSP Handscomb', 'A Ashish Reddy', 'Parvez Rasool',\n",
       "       'JA Morkel', 'KP Pietersen', 'KW Richardson', 'P Sahu', 'D Wiese',\n",
       "       'MEK Hussey', 'MA Starc', 'Azhar Mahmood', 'BE Hendricks',\n",
       "       'RS Bopara', 'J Botha', 'GB Hogg', 'Karanveer Singh',\n",
       "       'RN ten Doeschate', 'NJ Maddinson', 'V Sehwag', 'J Theron',\n",
       "       'DJ Muthuswami', 'MS Bisla', 'RR Rossouw', 'AN Ahmed', 'RG More',\n",
       "       'DJG Sammy', 'CM Gautam', 'DJ Hussey', 'PP Ojha', 'BJ Hodge',\n",
       "       'Y Venugopal Rao', 'S Anirudha', 'YV Takawale', 'VH Zol', 'S Rana',\n",
       "       'KK Cooper', 'VS Malik', 'M de Lange', 'Shivam Sharma',\n",
       "       'WD Parnell', 'LRPL Taylor', 'R Shukla', 'DH Yagnik', 'M Manhas',\n",
       "       'LR Shukla', 'L Balaji', 'JH Kallis', 'BR Dunk', 'CA Pujara',\n",
       "       'R Rampaul', 'AM Nayar', 'S Badrinath', 'R Dravid', 'CL White',\n",
       "       'BB Samantray', 'P Dogra', 'LJ Wright', 'RV Gomez',\n",
       "       'DPMD Jayawardene', 'B Chipli', 'BJ Rohrer', 'AC Gilchrist',\n",
       "       'SK Trivedi', 'RE van der Merwe', 'DB Das', 'SMSM Senanayake',\n",
       "       'SR Tendulkar', 'MC Juneja', 'AB Agarkar', 'LA Pomersbach',\n",
       "       'A Mithun', 'M Kartik', 'Harmeet Singh', 'P Awana', 'UA Birla',\n",
       "       'M Rawat', 'K Upadhyay', 'MS Gony', 'KC Sangakkara', 'R McLaren',\n",
       "       'PA Reddy', 'BMAJ Mendis', 'OA Shah', 'TL Suman', 'BAW Mendis',\n",
       "       'R Sharma', 'S Narwal', 'B Lee', 'A Mukund', 'TM Dilshan',\n",
       "       'KB Arun Karthik', 'J Syed Mohammad', 'X Thalaivan Sargunam',\n",
       "       'AG Murtaza', 'IC Pandey', 'A Chandila', 'S Sreesanth', 'SW Tait',\n",
       "       'PC Valthaty', 'AD Mascarenhas', 'RT Ponting', 'AB McDonald',\n",
       "       'RJ Harris', 'DB Ravi Teja', 'MDKJ Perera', 'AL Menaria',\n",
       "       'Sunny Gupta', 'JEC Franklin', 'RP Singh', 'M Muralitharan',\n",
       "       'P Parameswaran', 'JD Ryder', 'MJ Clarke', 'SC Ganguly',\n",
       "       'AP Majumdar', 'CJ Ferguson', 'Harpreet Singh', 'SD Chitnis',\n",
       "       'N Saini', 'HH Gibbs', 'Y Nagar', 'MD Mishra', 'AC Thomas',\n",
       "       'DJ Harris', 'AA Jhunjhunwala', 'AUK Pathan', 'RJ Peterson',\n",
       "       'AA Chavan', 'V Pratap Singh', 'RE Levi', 'DL Vettori',\n",
       "       'KMDN Kulasekara', 'AC Blizzard', 'DJ Jacobs', 'CJ McKay',\n",
       "       'M Kaif', 'BA Bhatt', 'RR Bhatkal', 'A Singh', 'DAJ Bracewell',\n",
       "       'DE Bollinger', 'Y Gnaneswara Rao', 'JJ van der Wath',\n",
       "       'CK Langeveldt', 'S Sohal', 'FY Fazal', 'PR Shah', 'JDP Oram',\n",
       "       'SK Warne', 'ND Doshi', 'S Sriram', 'JR Hopes', 'TR Birt',\n",
       "       'MJ Lumb', 'A Symonds', 'MV Boucher', 'AS Raut', 'SJ Srivastava',\n",
       "       'M Klinger', 'RR Powar', 'Sunny Singh', 'L Ablish', 'I Malhotra',\n",
       "       'GC Smith', 'SB Wagh', 'NL McCullum', 'B Akhil', 'TD Paine',\n",
       "       'JE Taylor', 'VVS Laxman', 'BJ Haddin', 'Joginder Sharma',\n",
       "       'S Randiv', 'SA Asnodkar', 'AG Paunikar', 'R Ninan',\n",
       "       'NJ Rimmington', 'SB Styris', 'ML Hayden', 'CRD Fernando',\n",
       "       'Anirudh Singh', 'B Sumanth', 'A Kumble', 'WPUJC Vaas',\n",
       "       'PD Collingwood', 'AC Voges', 'Pankaj Singh', 'C Madan',\n",
       "       'KP Appanna', 'ST Jayasuriya', 'AP Dole', 'MF Maharoof',\n",
       "       'AB Barath', 'T Thushara', 'RS Sodhi', 'AA Bilakhia',\n",
       "       'Jaskaran Singh', 'K Goel', 'KAJ Roach', 'S Ladda', 'DP Nannes',\n",
       "       'JM Kemp', 'DR Martyn', 'RS Gavaskar', 'SE Bond', 'A Uniyal',\n",
       "       'S Tyagi', 'YA Abdulla', 'Mohammad Ashraful', 'SM Katich',\n",
       "       'WA Mota', 'RJ Quiney', 'NK Patel', 'T Henderson', 'Yashpal Singh',\n",
       "       'SS Shaikh', 'Mashrafe Mortaza', 'C Nanda', 'Shoaib Ahmed',\n",
       "       'AN Ghosh', 'LA Carseldine', 'MN van Wyk', 'SM Harwood',\n",
       "       'L Ronchi', 'RR Raje', 'W Jaffer', 'D du Preez', 'R Bishnoi',\n",
       "       'TM Srivastava', 'GR Napier', 'FH Edwards', 'SB Bangar',\n",
       "       'A Flintoff', 'T Kohli', 'A Chopra', 'Kamran Khan', 'S Vidyut',\n",
       "       'CK Kapugedera', 'Kamran Akmal', 'Sohail Tanvir', 'Mohammad Asif',\n",
       "       'VY Mahesh', 'GD McGrath', 'AS Yadav', 'Shahid Afridi',\n",
       "       'SP Fleming', 'SM Pollock', 'Salman Butt', 'Umar Gul',\n",
       "       'Misbah-ul-Haq', 'LPC Silva', 'M Ntini', 'VS Yeligati',\n",
       "       'Mohammad Hafeez', 'DJ Thornely', 'H Das', 'DNT Zoysa',\n",
       "       'J Arunkumar', 'DT Patil', 'Abdur Razzak', 'Shoaib Malik',\n",
       "       'Shoaib Akhtar', 'PM Sarvesh Kumar', 'DP Vijaykumar',\n",
       "       'Younis Khan', 'D Salunkhe', 'T Taibu', 'RR Sarwan', 'VRV Singh',\n",
       "       'U Kaul', 'S Chanderpaul', 'D Kalyankrishna', 'MA Khote',\n",
       "       'SB Joshi', 'DS Lehmann', 'AA Noffke'], dtype=object)"
      ]
     },
     "execution_count": 8,
     "metadata": {},
     "output_type": "execute_result"
    }
   ],
   "source": [
    "df['batter'].unique()\n"
   ]
  },
  {
   "cell_type": "code",
   "execution_count": 9,
   "id": "926afbfa",
   "metadata": {},
   "outputs": [],
   "source": [
    "# FILTERING OUT ONLY VIRAT KOHLI's DATA FROM THE DATASET\n",
    "filter1=df['batter']=='V Kohli'\n",
    "df_kohli=df[filter1]"
   ]
  },
  {
   "cell_type": "code",
   "execution_count": 10,
   "id": "ab751d5f",
   "metadata": {},
   "outputs": [
    {
     "data": {
      "text/html": [
       "<div>\n",
       "<style scoped>\n",
       "    .dataframe tbody tr th:only-of-type {\n",
       "        vertical-align: middle;\n",
       "    }\n",
       "\n",
       "    .dataframe tbody tr th {\n",
       "        vertical-align: top;\n",
       "    }\n",
       "\n",
       "    .dataframe thead th {\n",
       "        text-align: right;\n",
       "    }\n",
       "</style>\n",
       "<table border=\"1\" class=\"dataframe\">\n",
       "  <thead>\n",
       "    <tr style=\"text-align: right;\">\n",
       "      <th></th>\n",
       "      <th>ID</th>\n",
       "      <th>innings</th>\n",
       "      <th>overs</th>\n",
       "      <th>ballnumber</th>\n",
       "      <th>batter</th>\n",
       "      <th>bowler</th>\n",
       "      <th>non-striker</th>\n",
       "      <th>extra_type</th>\n",
       "      <th>batsman_run</th>\n",
       "      <th>extras_run</th>\n",
       "      <th>total_run</th>\n",
       "      <th>non_boundary</th>\n",
       "      <th>isWicketDelivery</th>\n",
       "      <th>player_out</th>\n",
       "      <th>kind</th>\n",
       "      <th>fielders_involved</th>\n",
       "      <th>BattingTeam</th>\n",
       "    </tr>\n",
       "  </thead>\n",
       "  <tbody>\n",
       "    <tr>\n",
       "      <th>233</th>\n",
       "      <td>1312199</td>\n",
       "      <td>1</td>\n",
       "      <td>0</td>\n",
       "      <td>1</td>\n",
       "      <td>V Kohli</td>\n",
       "      <td>TA Boult</td>\n",
       "      <td>F du Plessis</td>\n",
       "      <td>NaN</td>\n",
       "      <td>0</td>\n",
       "      <td>0</td>\n",
       "      <td>0</td>\n",
       "      <td>0</td>\n",
       "      <td>0</td>\n",
       "      <td>NaN</td>\n",
       "      <td>NaN</td>\n",
       "      <td>NaN</td>\n",
       "      <td>Royal Challengers Bangalore</td>\n",
       "    </tr>\n",
       "    <tr>\n",
       "      <th>234</th>\n",
       "      <td>1312199</td>\n",
       "      <td>1</td>\n",
       "      <td>0</td>\n",
       "      <td>2</td>\n",
       "      <td>V Kohli</td>\n",
       "      <td>TA Boult</td>\n",
       "      <td>F du Plessis</td>\n",
       "      <td>NaN</td>\n",
       "      <td>1</td>\n",
       "      <td>0</td>\n",
       "      <td>1</td>\n",
       "      <td>0</td>\n",
       "      <td>0</td>\n",
       "      <td>NaN</td>\n",
       "      <td>NaN</td>\n",
       "      <td>NaN</td>\n",
       "      <td>Royal Challengers Bangalore</td>\n",
       "    </tr>\n",
       "    <tr>\n",
       "      <th>236</th>\n",
       "      <td>1312199</td>\n",
       "      <td>1</td>\n",
       "      <td>0</td>\n",
       "      <td>4</td>\n",
       "      <td>V Kohli</td>\n",
       "      <td>TA Boult</td>\n",
       "      <td>F du Plessis</td>\n",
       "      <td>NaN</td>\n",
       "      <td>0</td>\n",
       "      <td>0</td>\n",
       "      <td>0</td>\n",
       "      <td>0</td>\n",
       "      <td>0</td>\n",
       "      <td>NaN</td>\n",
       "      <td>NaN</td>\n",
       "      <td>NaN</td>\n",
       "      <td>Royal Challengers Bangalore</td>\n",
       "    </tr>\n",
       "    <tr>\n",
       "      <th>237</th>\n",
       "      <td>1312199</td>\n",
       "      <td>1</td>\n",
       "      <td>0</td>\n",
       "      <td>5</td>\n",
       "      <td>V Kohli</td>\n",
       "      <td>TA Boult</td>\n",
       "      <td>F du Plessis</td>\n",
       "      <td>NaN</td>\n",
       "      <td>0</td>\n",
       "      <td>0</td>\n",
       "      <td>0</td>\n",
       "      <td>0</td>\n",
       "      <td>0</td>\n",
       "      <td>NaN</td>\n",
       "      <td>NaN</td>\n",
       "      <td>NaN</td>\n",
       "      <td>Royal Challengers Bangalore</td>\n",
       "    </tr>\n",
       "    <tr>\n",
       "      <th>238</th>\n",
       "      <td>1312199</td>\n",
       "      <td>1</td>\n",
       "      <td>0</td>\n",
       "      <td>6</td>\n",
       "      <td>V Kohli</td>\n",
       "      <td>TA Boult</td>\n",
       "      <td>F du Plessis</td>\n",
       "      <td>NaN</td>\n",
       "      <td>6</td>\n",
       "      <td>0</td>\n",
       "      <td>6</td>\n",
       "      <td>0</td>\n",
       "      <td>0</td>\n",
       "      <td>NaN</td>\n",
       "      <td>NaN</td>\n",
       "      <td>NaN</td>\n",
       "      <td>Royal Challengers Bangalore</td>\n",
       "    </tr>\n",
       "  </tbody>\n",
       "</table>\n",
       "</div>"
      ],
      "text/plain": [
       "          ID  innings  overs  ballnumber   batter    bowler   non-striker  \\\n",
       "233  1312199        1      0           1  V Kohli  TA Boult  F du Plessis   \n",
       "234  1312199        1      0           2  V Kohli  TA Boult  F du Plessis   \n",
       "236  1312199        1      0           4  V Kohli  TA Boult  F du Plessis   \n",
       "237  1312199        1      0           5  V Kohli  TA Boult  F du Plessis   \n",
       "238  1312199        1      0           6  V Kohli  TA Boult  F du Plessis   \n",
       "\n",
       "    extra_type  batsman_run  extras_run  total_run  non_boundary  \\\n",
       "233        NaN            0           0          0             0   \n",
       "234        NaN            1           0          1             0   \n",
       "236        NaN            0           0          0             0   \n",
       "237        NaN            0           0          0             0   \n",
       "238        NaN            6           0          6             0   \n",
       "\n",
       "     isWicketDelivery player_out kind fielders_involved  \\\n",
       "233                 0        NaN  NaN               NaN   \n",
       "234                 0        NaN  NaN               NaN   \n",
       "236                 0        NaN  NaN               NaN   \n",
       "237                 0        NaN  NaN               NaN   \n",
       "238                 0        NaN  NaN               NaN   \n",
       "\n",
       "                     BattingTeam  \n",
       "233  Royal Challengers Bangalore  \n",
       "234  Royal Challengers Bangalore  \n",
       "236  Royal Challengers Bangalore  \n",
       "237  Royal Challengers Bangalore  \n",
       "238  Royal Challengers Bangalore  "
      ]
     },
     "execution_count": 10,
     "metadata": {},
     "output_type": "execute_result"
    }
   ],
   "source": [
    "df_kohli.head()"
   ]
  },
  {
   "cell_type": "markdown",
   "id": "ed918a98",
   "metadata": {},
   "source": [
    "<h2 style=\"color:#00008b\"> Q1. WHAT ARE THE VARIOUS WAYS OF DISMISSALS THAT VIRAT KOHLI HAS EXPERIENCED DURING HIS IPL CAREER? </h2>"
   ]
  },
  {
   "cell_type": "code",
   "execution_count": 11,
   "id": "36120444",
   "metadata": {},
   "outputs": [],
   "source": [
    "X=df_kohli['kind'].value_counts().index\n",
    "Y=df_kohli['kind'].value_counts().values"
   ]
  },
  {
   "cell_type": "code",
   "execution_count": 12,
   "id": "526d7ef5",
   "metadata": {},
   "outputs": [],
   "source": [
    "import plotly.graph_objs as go\n",
    "from plotly.offline import iplot"
   ]
  },
  {
   "cell_type": "code",
   "execution_count": 84,
   "id": "7fd2ae48",
   "metadata": {},
   "outputs": [
    {
     "data": {
      "application/vnd.plotly.v1+json": {
       "config": {
        "plotlyServerURL": "https://plot.ly"
       },
       "data": [
        {
         "labels": [
          "caught",
          "bowled",
          "run out",
          "lbw",
          "stumped",
          "caught and bowled"
         ],
         "marker": {
          "colors": [
           "#c23728",
           "#e14b31",
           "#de6e56",
           "#e1a692",
           "#e2e2e2",
           "#a7d5ed",
           "#63bff0",
           "#22a7f0",
           "#1984c5"
          ]
         },
         "textinfo": "label",
         "type": "pie",
         "values": [
          120,
          36,
          19,
          11,
          4,
          3
         ]
        }
       ],
       "layout": {
        "template": {
         "data": {
          "bar": [
           {
            "error_x": {
             "color": "#2a3f5f"
            },
            "error_y": {
             "color": "#2a3f5f"
            },
            "marker": {
             "line": {
              "color": "#E5ECF6",
              "width": 0.5
             },
             "pattern": {
              "fillmode": "overlay",
              "size": 10,
              "solidity": 0.2
             }
            },
            "type": "bar"
           }
          ],
          "barpolar": [
           {
            "marker": {
             "line": {
              "color": "#E5ECF6",
              "width": 0.5
             },
             "pattern": {
              "fillmode": "overlay",
              "size": 10,
              "solidity": 0.2
             }
            },
            "type": "barpolar"
           }
          ],
          "carpet": [
           {
            "aaxis": {
             "endlinecolor": "#2a3f5f",
             "gridcolor": "white",
             "linecolor": "white",
             "minorgridcolor": "white",
             "startlinecolor": "#2a3f5f"
            },
            "baxis": {
             "endlinecolor": "#2a3f5f",
             "gridcolor": "white",
             "linecolor": "white",
             "minorgridcolor": "white",
             "startlinecolor": "#2a3f5f"
            },
            "type": "carpet"
           }
          ],
          "choropleth": [
           {
            "colorbar": {
             "outlinewidth": 0,
             "ticks": ""
            },
            "type": "choropleth"
           }
          ],
          "contour": [
           {
            "colorbar": {
             "outlinewidth": 0,
             "ticks": ""
            },
            "colorscale": [
             [
              0,
              "#0d0887"
             ],
             [
              0.1111111111111111,
              "#46039f"
             ],
             [
              0.2222222222222222,
              "#7201a8"
             ],
             [
              0.3333333333333333,
              "#9c179e"
             ],
             [
              0.4444444444444444,
              "#bd3786"
             ],
             [
              0.5555555555555556,
              "#d8576b"
             ],
             [
              0.6666666666666666,
              "#ed7953"
             ],
             [
              0.7777777777777778,
              "#fb9f3a"
             ],
             [
              0.8888888888888888,
              "#fdca26"
             ],
             [
              1,
              "#f0f921"
             ]
            ],
            "type": "contour"
           }
          ],
          "contourcarpet": [
           {
            "colorbar": {
             "outlinewidth": 0,
             "ticks": ""
            },
            "type": "contourcarpet"
           }
          ],
          "heatmap": [
           {
            "colorbar": {
             "outlinewidth": 0,
             "ticks": ""
            },
            "colorscale": [
             [
              0,
              "#0d0887"
             ],
             [
              0.1111111111111111,
              "#46039f"
             ],
             [
              0.2222222222222222,
              "#7201a8"
             ],
             [
              0.3333333333333333,
              "#9c179e"
             ],
             [
              0.4444444444444444,
              "#bd3786"
             ],
             [
              0.5555555555555556,
              "#d8576b"
             ],
             [
              0.6666666666666666,
              "#ed7953"
             ],
             [
              0.7777777777777778,
              "#fb9f3a"
             ],
             [
              0.8888888888888888,
              "#fdca26"
             ],
             [
              1,
              "#f0f921"
             ]
            ],
            "type": "heatmap"
           }
          ],
          "heatmapgl": [
           {
            "colorbar": {
             "outlinewidth": 0,
             "ticks": ""
            },
            "colorscale": [
             [
              0,
              "#0d0887"
             ],
             [
              0.1111111111111111,
              "#46039f"
             ],
             [
              0.2222222222222222,
              "#7201a8"
             ],
             [
              0.3333333333333333,
              "#9c179e"
             ],
             [
              0.4444444444444444,
              "#bd3786"
             ],
             [
              0.5555555555555556,
              "#d8576b"
             ],
             [
              0.6666666666666666,
              "#ed7953"
             ],
             [
              0.7777777777777778,
              "#fb9f3a"
             ],
             [
              0.8888888888888888,
              "#fdca26"
             ],
             [
              1,
              "#f0f921"
             ]
            ],
            "type": "heatmapgl"
           }
          ],
          "histogram": [
           {
            "marker": {
             "pattern": {
              "fillmode": "overlay",
              "size": 10,
              "solidity": 0.2
             }
            },
            "type": "histogram"
           }
          ],
          "histogram2d": [
           {
            "colorbar": {
             "outlinewidth": 0,
             "ticks": ""
            },
            "colorscale": [
             [
              0,
              "#0d0887"
             ],
             [
              0.1111111111111111,
              "#46039f"
             ],
             [
              0.2222222222222222,
              "#7201a8"
             ],
             [
              0.3333333333333333,
              "#9c179e"
             ],
             [
              0.4444444444444444,
              "#bd3786"
             ],
             [
              0.5555555555555556,
              "#d8576b"
             ],
             [
              0.6666666666666666,
              "#ed7953"
             ],
             [
              0.7777777777777778,
              "#fb9f3a"
             ],
             [
              0.8888888888888888,
              "#fdca26"
             ],
             [
              1,
              "#f0f921"
             ]
            ],
            "type": "histogram2d"
           }
          ],
          "histogram2dcontour": [
           {
            "colorbar": {
             "outlinewidth": 0,
             "ticks": ""
            },
            "colorscale": [
             [
              0,
              "#0d0887"
             ],
             [
              0.1111111111111111,
              "#46039f"
             ],
             [
              0.2222222222222222,
              "#7201a8"
             ],
             [
              0.3333333333333333,
              "#9c179e"
             ],
             [
              0.4444444444444444,
              "#bd3786"
             ],
             [
              0.5555555555555556,
              "#d8576b"
             ],
             [
              0.6666666666666666,
              "#ed7953"
             ],
             [
              0.7777777777777778,
              "#fb9f3a"
             ],
             [
              0.8888888888888888,
              "#fdca26"
             ],
             [
              1,
              "#f0f921"
             ]
            ],
            "type": "histogram2dcontour"
           }
          ],
          "mesh3d": [
           {
            "colorbar": {
             "outlinewidth": 0,
             "ticks": ""
            },
            "type": "mesh3d"
           }
          ],
          "parcoords": [
           {
            "line": {
             "colorbar": {
              "outlinewidth": 0,
              "ticks": ""
             }
            },
            "type": "parcoords"
           }
          ],
          "pie": [
           {
            "automargin": true,
            "type": "pie"
           }
          ],
          "scatter": [
           {
            "fillpattern": {
             "fillmode": "overlay",
             "size": 10,
             "solidity": 0.2
            },
            "type": "scatter"
           }
          ],
          "scatter3d": [
           {
            "line": {
             "colorbar": {
              "outlinewidth": 0,
              "ticks": ""
             }
            },
            "marker": {
             "colorbar": {
              "outlinewidth": 0,
              "ticks": ""
             }
            },
            "type": "scatter3d"
           }
          ],
          "scattercarpet": [
           {
            "marker": {
             "colorbar": {
              "outlinewidth": 0,
              "ticks": ""
             }
            },
            "type": "scattercarpet"
           }
          ],
          "scattergeo": [
           {
            "marker": {
             "colorbar": {
              "outlinewidth": 0,
              "ticks": ""
             }
            },
            "type": "scattergeo"
           }
          ],
          "scattergl": [
           {
            "marker": {
             "colorbar": {
              "outlinewidth": 0,
              "ticks": ""
             }
            },
            "type": "scattergl"
           }
          ],
          "scattermapbox": [
           {
            "marker": {
             "colorbar": {
              "outlinewidth": 0,
              "ticks": ""
             }
            },
            "type": "scattermapbox"
           }
          ],
          "scatterpolar": [
           {
            "marker": {
             "colorbar": {
              "outlinewidth": 0,
              "ticks": ""
             }
            },
            "type": "scatterpolar"
           }
          ],
          "scatterpolargl": [
           {
            "marker": {
             "colorbar": {
              "outlinewidth": 0,
              "ticks": ""
             }
            },
            "type": "scatterpolargl"
           }
          ],
          "scatterternary": [
           {
            "marker": {
             "colorbar": {
              "outlinewidth": 0,
              "ticks": ""
             }
            },
            "type": "scatterternary"
           }
          ],
          "surface": [
           {
            "colorbar": {
             "outlinewidth": 0,
             "ticks": ""
            },
            "colorscale": [
             [
              0,
              "#0d0887"
             ],
             [
              0.1111111111111111,
              "#46039f"
             ],
             [
              0.2222222222222222,
              "#7201a8"
             ],
             [
              0.3333333333333333,
              "#9c179e"
             ],
             [
              0.4444444444444444,
              "#bd3786"
             ],
             [
              0.5555555555555556,
              "#d8576b"
             ],
             [
              0.6666666666666666,
              "#ed7953"
             ],
             [
              0.7777777777777778,
              "#fb9f3a"
             ],
             [
              0.8888888888888888,
              "#fdca26"
             ],
             [
              1,
              "#f0f921"
             ]
            ],
            "type": "surface"
           }
          ],
          "table": [
           {
            "cells": {
             "fill": {
              "color": "#EBF0F8"
             },
             "line": {
              "color": "white"
             }
            },
            "header": {
             "fill": {
              "color": "#C8D4E3"
             },
             "line": {
              "color": "white"
             }
            },
            "type": "table"
           }
          ]
         },
         "layout": {
          "annotationdefaults": {
           "arrowcolor": "#2a3f5f",
           "arrowhead": 0,
           "arrowwidth": 1
          },
          "autotypenumbers": "strict",
          "coloraxis": {
           "colorbar": {
            "outlinewidth": 0,
            "ticks": ""
           }
          },
          "colorscale": {
           "diverging": [
            [
             0,
             "#8e0152"
            ],
            [
             0.1,
             "#c51b7d"
            ],
            [
             0.2,
             "#de77ae"
            ],
            [
             0.3,
             "#f1b6da"
            ],
            [
             0.4,
             "#fde0ef"
            ],
            [
             0.5,
             "#f7f7f7"
            ],
            [
             0.6,
             "#e6f5d0"
            ],
            [
             0.7,
             "#b8e186"
            ],
            [
             0.8,
             "#7fbc41"
            ],
            [
             0.9,
             "#4d9221"
            ],
            [
             1,
             "#276419"
            ]
           ],
           "sequential": [
            [
             0,
             "#0d0887"
            ],
            [
             0.1111111111111111,
             "#46039f"
            ],
            [
             0.2222222222222222,
             "#7201a8"
            ],
            [
             0.3333333333333333,
             "#9c179e"
            ],
            [
             0.4444444444444444,
             "#bd3786"
            ],
            [
             0.5555555555555556,
             "#d8576b"
            ],
            [
             0.6666666666666666,
             "#ed7953"
            ],
            [
             0.7777777777777778,
             "#fb9f3a"
            ],
            [
             0.8888888888888888,
             "#fdca26"
            ],
            [
             1,
             "#f0f921"
            ]
           ],
           "sequentialminus": [
            [
             0,
             "#0d0887"
            ],
            [
             0.1111111111111111,
             "#46039f"
            ],
            [
             0.2222222222222222,
             "#7201a8"
            ],
            [
             0.3333333333333333,
             "#9c179e"
            ],
            [
             0.4444444444444444,
             "#bd3786"
            ],
            [
             0.5555555555555556,
             "#d8576b"
            ],
            [
             0.6666666666666666,
             "#ed7953"
            ],
            [
             0.7777777777777778,
             "#fb9f3a"
            ],
            [
             0.8888888888888888,
             "#fdca26"
            ],
            [
             1,
             "#f0f921"
            ]
           ]
          },
          "colorway": [
           "#636efa",
           "#EF553B",
           "#00cc96",
           "#ab63fa",
           "#FFA15A",
           "#19d3f3",
           "#FF6692",
           "#B6E880",
           "#FF97FF",
           "#FECB52"
          ],
          "font": {
           "color": "#2a3f5f"
          },
          "geo": {
           "bgcolor": "white",
           "lakecolor": "white",
           "landcolor": "#E5ECF6",
           "showlakes": true,
           "showland": true,
           "subunitcolor": "white"
          },
          "hoverlabel": {
           "align": "left"
          },
          "hovermode": "closest",
          "mapbox": {
           "style": "light"
          },
          "paper_bgcolor": "white",
          "plot_bgcolor": "#E5ECF6",
          "polar": {
           "angularaxis": {
            "gridcolor": "white",
            "linecolor": "white",
            "ticks": ""
           },
           "bgcolor": "#E5ECF6",
           "radialaxis": {
            "gridcolor": "white",
            "linecolor": "white",
            "ticks": ""
           }
          },
          "scene": {
           "xaxis": {
            "backgroundcolor": "#E5ECF6",
            "gridcolor": "white",
            "gridwidth": 2,
            "linecolor": "white",
            "showbackground": true,
            "ticks": "",
            "zerolinecolor": "white"
           },
           "yaxis": {
            "backgroundcolor": "#E5ECF6",
            "gridcolor": "white",
            "gridwidth": 2,
            "linecolor": "white",
            "showbackground": true,
            "ticks": "",
            "zerolinecolor": "white"
           },
           "zaxis": {
            "backgroundcolor": "#E5ECF6",
            "gridcolor": "white",
            "gridwidth": 2,
            "linecolor": "white",
            "showbackground": true,
            "ticks": "",
            "zerolinecolor": "white"
           }
          },
          "shapedefaults": {
           "line": {
            "color": "#2a3f5f"
           }
          },
          "ternary": {
           "aaxis": {
            "gridcolor": "white",
            "linecolor": "white",
            "ticks": ""
           },
           "baxis": {
            "gridcolor": "white",
            "linecolor": "white",
            "ticks": ""
           },
           "bgcolor": "#E5ECF6",
           "caxis": {
            "gridcolor": "white",
            "linecolor": "white",
            "ticks": ""
           }
          },
          "title": {
           "x": 0.05
          },
          "xaxis": {
           "automargin": true,
           "gridcolor": "white",
           "linecolor": "white",
           "ticks": "",
           "title": {
            "standoff": 15
           },
           "zerolinecolor": "white",
           "zerolinewidth": 2
          },
          "yaxis": {
           "automargin": true,
           "gridcolor": "white",
           "linecolor": "white",
           "ticks": "",
           "title": {
            "standoff": 15
           },
           "zerolinecolor": "white",
           "zerolinewidth": 2
          }
         }
        }
       }
      },
      "text/html": [
       "<div>                            <div id=\"f0f5cf82-d4d3-41fc-a1f3-ae1b6e5d3c1d\" class=\"plotly-graph-div\" style=\"height:525px; width:100%;\"></div>            <script type=\"text/javascript\">                require([\"plotly\"], function(Plotly) {                    window.PLOTLYENV=window.PLOTLYENV || {};                                    if (document.getElementById(\"f0f5cf82-d4d3-41fc-a1f3-ae1b6e5d3c1d\")) {                    Plotly.newPlot(                        \"f0f5cf82-d4d3-41fc-a1f3-ae1b6e5d3c1d\",                        [{\"labels\":[\"caught\",\"bowled\",\"run out\",\"lbw\",\"stumped\",\"caught and bowled\"],\"marker\":{\"colors\":[\"#c23728\",\"#e14b31\",\"#de6e56\",\"#e1a692\",\"#e2e2e2\",\"#a7d5ed\",\"#63bff0\",\"#22a7f0\",\"#1984c5\"]},\"values\":[120,36,19,11,4,3],\"type\":\"pie\",\"textinfo\":\"label\"}],                        {\"template\":{\"data\":{\"histogram2dcontour\":[{\"type\":\"histogram2dcontour\",\"colorbar\":{\"outlinewidth\":0,\"ticks\":\"\"},\"colorscale\":[[0.0,\"#0d0887\"],[0.1111111111111111,\"#46039f\"],[0.2222222222222222,\"#7201a8\"],[0.3333333333333333,\"#9c179e\"],[0.4444444444444444,\"#bd3786\"],[0.5555555555555556,\"#d8576b\"],[0.6666666666666666,\"#ed7953\"],[0.7777777777777778,\"#fb9f3a\"],[0.8888888888888888,\"#fdca26\"],[1.0,\"#f0f921\"]]}],\"choropleth\":[{\"type\":\"choropleth\",\"colorbar\":{\"outlinewidth\":0,\"ticks\":\"\"}}],\"histogram2d\":[{\"type\":\"histogram2d\",\"colorbar\":{\"outlinewidth\":0,\"ticks\":\"\"},\"colorscale\":[[0.0,\"#0d0887\"],[0.1111111111111111,\"#46039f\"],[0.2222222222222222,\"#7201a8\"],[0.3333333333333333,\"#9c179e\"],[0.4444444444444444,\"#bd3786\"],[0.5555555555555556,\"#d8576b\"],[0.6666666666666666,\"#ed7953\"],[0.7777777777777778,\"#fb9f3a\"],[0.8888888888888888,\"#fdca26\"],[1.0,\"#f0f921\"]]}],\"heatmap\":[{\"type\":\"heatmap\",\"colorbar\":{\"outlinewidth\":0,\"ticks\":\"\"},\"colorscale\":[[0.0,\"#0d0887\"],[0.1111111111111111,\"#46039f\"],[0.2222222222222222,\"#7201a8\"],[0.3333333333333333,\"#9c179e\"],[0.4444444444444444,\"#bd3786\"],[0.5555555555555556,\"#d8576b\"],[0.6666666666666666,\"#ed7953\"],[0.7777777777777778,\"#fb9f3a\"],[0.8888888888888888,\"#fdca26\"],[1.0,\"#f0f921\"]]}],\"heatmapgl\":[{\"type\":\"heatmapgl\",\"colorbar\":{\"outlinewidth\":0,\"ticks\":\"\"},\"colorscale\":[[0.0,\"#0d0887\"],[0.1111111111111111,\"#46039f\"],[0.2222222222222222,\"#7201a8\"],[0.3333333333333333,\"#9c179e\"],[0.4444444444444444,\"#bd3786\"],[0.5555555555555556,\"#d8576b\"],[0.6666666666666666,\"#ed7953\"],[0.7777777777777778,\"#fb9f3a\"],[0.8888888888888888,\"#fdca26\"],[1.0,\"#f0f921\"]]}],\"contourcarpet\":[{\"type\":\"contourcarpet\",\"colorbar\":{\"outlinewidth\":0,\"ticks\":\"\"}}],\"contour\":[{\"type\":\"contour\",\"colorbar\":{\"outlinewidth\":0,\"ticks\":\"\"},\"colorscale\":[[0.0,\"#0d0887\"],[0.1111111111111111,\"#46039f\"],[0.2222222222222222,\"#7201a8\"],[0.3333333333333333,\"#9c179e\"],[0.4444444444444444,\"#bd3786\"],[0.5555555555555556,\"#d8576b\"],[0.6666666666666666,\"#ed7953\"],[0.7777777777777778,\"#fb9f3a\"],[0.8888888888888888,\"#fdca26\"],[1.0,\"#f0f921\"]]}],\"surface\":[{\"type\":\"surface\",\"colorbar\":{\"outlinewidth\":0,\"ticks\":\"\"},\"colorscale\":[[0.0,\"#0d0887\"],[0.1111111111111111,\"#46039f\"],[0.2222222222222222,\"#7201a8\"],[0.3333333333333333,\"#9c179e\"],[0.4444444444444444,\"#bd3786\"],[0.5555555555555556,\"#d8576b\"],[0.6666666666666666,\"#ed7953\"],[0.7777777777777778,\"#fb9f3a\"],[0.8888888888888888,\"#fdca26\"],[1.0,\"#f0f921\"]]}],\"mesh3d\":[{\"type\":\"mesh3d\",\"colorbar\":{\"outlinewidth\":0,\"ticks\":\"\"}}],\"scatter\":[{\"fillpattern\":{\"fillmode\":\"overlay\",\"size\":10,\"solidity\":0.2},\"type\":\"scatter\"}],\"parcoords\":[{\"type\":\"parcoords\",\"line\":{\"colorbar\":{\"outlinewidth\":0,\"ticks\":\"\"}}}],\"scatterpolargl\":[{\"type\":\"scatterpolargl\",\"marker\":{\"colorbar\":{\"outlinewidth\":0,\"ticks\":\"\"}}}],\"bar\":[{\"error_x\":{\"color\":\"#2a3f5f\"},\"error_y\":{\"color\":\"#2a3f5f\"},\"marker\":{\"line\":{\"color\":\"#E5ECF6\",\"width\":0.5},\"pattern\":{\"fillmode\":\"overlay\",\"size\":10,\"solidity\":0.2}},\"type\":\"bar\"}],\"scattergeo\":[{\"type\":\"scattergeo\",\"marker\":{\"colorbar\":{\"outlinewidth\":0,\"ticks\":\"\"}}}],\"scatterpolar\":[{\"type\":\"scatterpolar\",\"marker\":{\"colorbar\":{\"outlinewidth\":0,\"ticks\":\"\"}}}],\"histogram\":[{\"marker\":{\"pattern\":{\"fillmode\":\"overlay\",\"size\":10,\"solidity\":0.2}},\"type\":\"histogram\"}],\"scattergl\":[{\"type\":\"scattergl\",\"marker\":{\"colorbar\":{\"outlinewidth\":0,\"ticks\":\"\"}}}],\"scatter3d\":[{\"type\":\"scatter3d\",\"line\":{\"colorbar\":{\"outlinewidth\":0,\"ticks\":\"\"}},\"marker\":{\"colorbar\":{\"outlinewidth\":0,\"ticks\":\"\"}}}],\"scattermapbox\":[{\"type\":\"scattermapbox\",\"marker\":{\"colorbar\":{\"outlinewidth\":0,\"ticks\":\"\"}}}],\"scatterternary\":[{\"type\":\"scatterternary\",\"marker\":{\"colorbar\":{\"outlinewidth\":0,\"ticks\":\"\"}}}],\"scattercarpet\":[{\"type\":\"scattercarpet\",\"marker\":{\"colorbar\":{\"outlinewidth\":0,\"ticks\":\"\"}}}],\"carpet\":[{\"aaxis\":{\"endlinecolor\":\"#2a3f5f\",\"gridcolor\":\"white\",\"linecolor\":\"white\",\"minorgridcolor\":\"white\",\"startlinecolor\":\"#2a3f5f\"},\"baxis\":{\"endlinecolor\":\"#2a3f5f\",\"gridcolor\":\"white\",\"linecolor\":\"white\",\"minorgridcolor\":\"white\",\"startlinecolor\":\"#2a3f5f\"},\"type\":\"carpet\"}],\"table\":[{\"cells\":{\"fill\":{\"color\":\"#EBF0F8\"},\"line\":{\"color\":\"white\"}},\"header\":{\"fill\":{\"color\":\"#C8D4E3\"},\"line\":{\"color\":\"white\"}},\"type\":\"table\"}],\"barpolar\":[{\"marker\":{\"line\":{\"color\":\"#E5ECF6\",\"width\":0.5},\"pattern\":{\"fillmode\":\"overlay\",\"size\":10,\"solidity\":0.2}},\"type\":\"barpolar\"}],\"pie\":[{\"automargin\":true,\"type\":\"pie\"}]},\"layout\":{\"autotypenumbers\":\"strict\",\"colorway\":[\"#636efa\",\"#EF553B\",\"#00cc96\",\"#ab63fa\",\"#FFA15A\",\"#19d3f3\",\"#FF6692\",\"#B6E880\",\"#FF97FF\",\"#FECB52\"],\"font\":{\"color\":\"#2a3f5f\"},\"hovermode\":\"closest\",\"hoverlabel\":{\"align\":\"left\"},\"paper_bgcolor\":\"white\",\"plot_bgcolor\":\"#E5ECF6\",\"polar\":{\"bgcolor\":\"#E5ECF6\",\"angularaxis\":{\"gridcolor\":\"white\",\"linecolor\":\"white\",\"ticks\":\"\"},\"radialaxis\":{\"gridcolor\":\"white\",\"linecolor\":\"white\",\"ticks\":\"\"}},\"ternary\":{\"bgcolor\":\"#E5ECF6\",\"aaxis\":{\"gridcolor\":\"white\",\"linecolor\":\"white\",\"ticks\":\"\"},\"baxis\":{\"gridcolor\":\"white\",\"linecolor\":\"white\",\"ticks\":\"\"},\"caxis\":{\"gridcolor\":\"white\",\"linecolor\":\"white\",\"ticks\":\"\"}},\"coloraxis\":{\"colorbar\":{\"outlinewidth\":0,\"ticks\":\"\"}},\"colorscale\":{\"sequential\":[[0.0,\"#0d0887\"],[0.1111111111111111,\"#46039f\"],[0.2222222222222222,\"#7201a8\"],[0.3333333333333333,\"#9c179e\"],[0.4444444444444444,\"#bd3786\"],[0.5555555555555556,\"#d8576b\"],[0.6666666666666666,\"#ed7953\"],[0.7777777777777778,\"#fb9f3a\"],[0.8888888888888888,\"#fdca26\"],[1.0,\"#f0f921\"]],\"sequentialminus\":[[0.0,\"#0d0887\"],[0.1111111111111111,\"#46039f\"],[0.2222222222222222,\"#7201a8\"],[0.3333333333333333,\"#9c179e\"],[0.4444444444444444,\"#bd3786\"],[0.5555555555555556,\"#d8576b\"],[0.6666666666666666,\"#ed7953\"],[0.7777777777777778,\"#fb9f3a\"],[0.8888888888888888,\"#fdca26\"],[1.0,\"#f0f921\"]],\"diverging\":[[0,\"#8e0152\"],[0.1,\"#c51b7d\"],[0.2,\"#de77ae\"],[0.3,\"#f1b6da\"],[0.4,\"#fde0ef\"],[0.5,\"#f7f7f7\"],[0.6,\"#e6f5d0\"],[0.7,\"#b8e186\"],[0.8,\"#7fbc41\"],[0.9,\"#4d9221\"],[1,\"#276419\"]]},\"xaxis\":{\"gridcolor\":\"white\",\"linecolor\":\"white\",\"ticks\":\"\",\"title\":{\"standoff\":15},\"zerolinecolor\":\"white\",\"automargin\":true,\"zerolinewidth\":2},\"yaxis\":{\"gridcolor\":\"white\",\"linecolor\":\"white\",\"ticks\":\"\",\"title\":{\"standoff\":15},\"zerolinecolor\":\"white\",\"automargin\":true,\"zerolinewidth\":2},\"scene\":{\"xaxis\":{\"backgroundcolor\":\"#E5ECF6\",\"gridcolor\":\"white\",\"linecolor\":\"white\",\"showbackground\":true,\"ticks\":\"\",\"zerolinecolor\":\"white\",\"gridwidth\":2},\"yaxis\":{\"backgroundcolor\":\"#E5ECF6\",\"gridcolor\":\"white\",\"linecolor\":\"white\",\"showbackground\":true,\"ticks\":\"\",\"zerolinecolor\":\"white\",\"gridwidth\":2},\"zaxis\":{\"backgroundcolor\":\"#E5ECF6\",\"gridcolor\":\"white\",\"linecolor\":\"white\",\"showbackground\":true,\"ticks\":\"\",\"zerolinecolor\":\"white\",\"gridwidth\":2}},\"shapedefaults\":{\"line\":{\"color\":\"#2a3f5f\"}},\"annotationdefaults\":{\"arrowcolor\":\"#2a3f5f\",\"arrowhead\":0,\"arrowwidth\":1},\"geo\":{\"bgcolor\":\"white\",\"landcolor\":\"#E5ECF6\",\"subunitcolor\":\"white\",\"showland\":true,\"showlakes\":true,\"lakecolor\":\"white\"},\"title\":{\"x\":0.05},\"mapbox\":{\"style\":\"light\"}}}},                        {\"responsive\": true}                    ).then(function(){\n",
       "                            \n",
       "var gd = document.getElementById('f0f5cf82-d4d3-41fc-a1f3-ae1b6e5d3c1d');\n",
       "var x = new MutationObserver(function (mutations, observer) {{\n",
       "        var display = window.getComputedStyle(gd).display;\n",
       "        if (!display || display === 'none') {{\n",
       "            console.log([gd, 'removed!']);\n",
       "            Plotly.purge(gd);\n",
       "            observer.disconnect();\n",
       "        }}\n",
       "}});\n",
       "\n",
       "// Listen for the removal of the full notebook cells\n",
       "var notebookContainer = gd.closest('#notebook-container');\n",
       "if (notebookContainer) {{\n",
       "    x.observe(notebookContainer, {childList: true});\n",
       "}}\n",
       "\n",
       "// Listen for the clearing of the current output cell\n",
       "var outputEl = gd.closest('.output');\n",
       "if (outputEl) {{\n",
       "    x.observe(outputEl, {childList: true});\n",
       "}}\n",
       "\n",
       "                        })                };                });            </script>        </div>"
      ]
     },
     "metadata": {},
     "output_type": "display_data"
    }
   ],
   "source": [
    "colors=[\"#1984c5\", \"#22a7f0\", \"#63bff0\", \"#a7d5ed\", \"#e2e2e2\", \"#e1a692\", \"#de6e56\", \"#e14b31\", \"#c23728\"]\n",
    "fig = go.Figure(data=[go.Pie(labels=X, values=Y,marker=dict(colors=colors[::-1]))])\n",
    "fig.update_traces(textinfo='label')\n",
    "fig.show()"
   ]
  },
  {
   "cell_type": "markdown",
   "id": "5f51899e",
   "metadata": {},
   "source": [
    "<p style=\"color:red;\"><b>CONCLUSION : </b> </p>ACCORDING TO THIS DATA, KOHLI HAS BEEN CAUGHT OUT 62.2% OF THE TIME HE HAS BEEN DISMISSED, WHICH IS THE HIGHEST PERCENTAGE. THE SECOND-HIGHEST PERCENTAGE IS BOWLED, WHICH ACCOUNTS FOR 18.7% OF HIS DISMISSALS."
   ]
  },
  {
   "cell_type": "markdown",
   "id": "871a712d",
   "metadata": {},
   "source": [
    "<h2 style=\"color:#00008b;\"> Q2. WHAT IS THE TOTAL NUMBER OF RUN SHARE SCORED BY VIRAT KOHLI IN IPL? </h2>"
   ]
  },
  {
   "cell_type": "code",
   "execution_count": 15,
   "id": "97164de5",
   "metadata": {},
   "outputs": [
    {
     "data": {
      "text/plain": [
       "1    2183\n",
       "0    1886\n",
       "4     581\n",
       "2     378\n",
       "6     219\n",
       "3      19\n",
       "Name: batsman_run, dtype: int64"
      ]
     },
     "execution_count": 15,
     "metadata": {},
     "output_type": "execute_result"
    }
   ],
   "source": [
    "df_kohli['batsman_run'].value_counts()"
   ]
  },
  {
   "cell_type": "code",
   "execution_count": 16,
   "id": "51d5f07a",
   "metadata": {},
   "outputs": [],
   "source": [
    "x=df_kohli['batsman_run'].value_counts().values\n",
    "y=df_kohli['batsman_run'].value_counts().index\n",
    "runs_share={'Count':x,'Runs':y}\n",
    "runs_share=pd.DataFrame(runs_share)"
   ]
  },
  {
   "cell_type": "code",
   "execution_count": 17,
   "id": "8402d599",
   "metadata": {
    "scrolled": true
   },
   "outputs": [
    {
     "data": {
      "text/html": [
       "<div>\n",
       "<style scoped>\n",
       "    .dataframe tbody tr th:only-of-type {\n",
       "        vertical-align: middle;\n",
       "    }\n",
       "\n",
       "    .dataframe tbody tr th {\n",
       "        vertical-align: top;\n",
       "    }\n",
       "\n",
       "    .dataframe thead th {\n",
       "        text-align: right;\n",
       "    }\n",
       "</style>\n",
       "<table border=\"1\" class=\"dataframe\">\n",
       "  <thead>\n",
       "    <tr style=\"text-align: right;\">\n",
       "      <th></th>\n",
       "      <th>Count</th>\n",
       "      <th>Runs</th>\n",
       "    </tr>\n",
       "  </thead>\n",
       "  <tbody>\n",
       "    <tr>\n",
       "      <th>0</th>\n",
       "      <td>2183</td>\n",
       "      <td>1</td>\n",
       "    </tr>\n",
       "    <tr>\n",
       "      <th>1</th>\n",
       "      <td>1886</td>\n",
       "      <td>0</td>\n",
       "    </tr>\n",
       "    <tr>\n",
       "      <th>2</th>\n",
       "      <td>581</td>\n",
       "      <td>4</td>\n",
       "    </tr>\n",
       "    <tr>\n",
       "      <th>3</th>\n",
       "      <td>378</td>\n",
       "      <td>2</td>\n",
       "    </tr>\n",
       "    <tr>\n",
       "      <th>4</th>\n",
       "      <td>219</td>\n",
       "      <td>6</td>\n",
       "    </tr>\n",
       "  </tbody>\n",
       "</table>\n",
       "</div>"
      ],
      "text/plain": [
       "   Count  Runs\n",
       "0   2183     1\n",
       "1   1886     0\n",
       "2    581     4\n",
       "3    378     2\n",
       "4    219     6"
      ]
     },
     "execution_count": 17,
     "metadata": {},
     "output_type": "execute_result"
    }
   ],
   "source": [
    "runs_share.head()"
   ]
  },
  {
   "cell_type": "code",
   "execution_count": 18,
   "id": "926f305f",
   "metadata": {},
   "outputs": [
    {
     "data": {
      "text/html": [
       "<div>\n",
       "<style scoped>\n",
       "    .dataframe tbody tr th:only-of-type {\n",
       "        vertical-align: middle;\n",
       "    }\n",
       "\n",
       "    .dataframe tbody tr th {\n",
       "        vertical-align: top;\n",
       "    }\n",
       "\n",
       "    .dataframe thead th {\n",
       "        text-align: right;\n",
       "    }\n",
       "</style>\n",
       "<table border=\"1\" class=\"dataframe\">\n",
       "  <thead>\n",
       "    <tr style=\"text-align: right;\">\n",
       "      <th></th>\n",
       "      <th>Count</th>\n",
       "      <th>Runs</th>\n",
       "    </tr>\n",
       "  </thead>\n",
       "  <tbody>\n",
       "    <tr>\n",
       "      <th>0</th>\n",
       "      <td>2183</td>\n",
       "      <td>1</td>\n",
       "    </tr>\n",
       "    <tr>\n",
       "      <th>2</th>\n",
       "      <td>581</td>\n",
       "      <td>4</td>\n",
       "    </tr>\n",
       "    <tr>\n",
       "      <th>3</th>\n",
       "      <td>378</td>\n",
       "      <td>2</td>\n",
       "    </tr>\n",
       "    <tr>\n",
       "      <th>4</th>\n",
       "      <td>219</td>\n",
       "      <td>6</td>\n",
       "    </tr>\n",
       "    <tr>\n",
       "      <th>5</th>\n",
       "      <td>19</td>\n",
       "      <td>3</td>\n",
       "    </tr>\n",
       "  </tbody>\n",
       "</table>\n",
       "</div>"
      ],
      "text/plain": [
       "   Count  Runs\n",
       "0   2183     1\n",
       "2    581     4\n",
       "3    378     2\n",
       "4    219     6\n",
       "5     19     3"
      ]
     },
     "execution_count": 18,
     "metadata": {},
     "output_type": "execute_result"
    }
   ],
   "source": [
    "# FILTERING OUT ZERO RUNS WHICH HAS NO IMPACT ON SCORES\n",
    "filter2=runs_share['Runs']==0\n",
    "runs_share=runs_share[~filter2]\n",
    "runs_share.head()"
   ]
  },
  {
   "cell_type": "code",
   "execution_count": 85,
   "id": "15e7494d",
   "metadata": {},
   "outputs": [
    {
     "data": {
      "text/plain": [
       "<AxesSubplot:xlabel='Runs', ylabel='Count'>"
      ]
     },
     "execution_count": 85,
     "metadata": {},
     "output_type": "execute_result"
    },
    {
     "data": {
      "image/png": "[encoded data removed]",
      "text/plain": [
       "<Figure size 640x480 with 1 Axes>"
      ]
     },
     "metadata": {},
     "output_type": "display_data"
    }
   ],
   "source": [
    "sns.barplot(x='Runs',y='Count',data=runs_share ,palette=colors[::-1])"
   ]
  },
  {
   "cell_type": "markdown",
   "id": "a2e3fa55",
   "metadata": {},
   "source": [
    "<p style=\"color:red;\"><b>CONCLUSION :</b> </p> AS OF 2022, THE MAXIMUM COUNT OF RUNS SCORED BY VIRAT KOHLI IN SINGLES IS 2183, INDICATING THAT THE NUMBER OF 1'S IS THE HIGHEST AMONG ALL THE TYPES OF RUNS HE HAS SCORED."
   ]
  },
  {
   "cell_type": "code",
   "execution_count": 20,
   "id": "745c7da7",
   "metadata": {},
   "outputs": [
    {
     "data": {
      "text/html": [
       "<div>\n",
       "<style scoped>\n",
       "    .dataframe tbody tr th:only-of-type {\n",
       "        vertical-align: middle;\n",
       "    }\n",
       "\n",
       "    .dataframe tbody tr th {\n",
       "        vertical-align: top;\n",
       "    }\n",
       "\n",
       "    .dataframe thead th {\n",
       "        text-align: right;\n",
       "    }\n",
       "</style>\n",
       "<table border=\"1\" class=\"dataframe\">\n",
       "  <thead>\n",
       "    <tr style=\"text-align: right;\">\n",
       "      <th></th>\n",
       "      <th>Count</th>\n",
       "      <th>Runs</th>\n",
       "      <th>Total</th>\n",
       "    </tr>\n",
       "  </thead>\n",
       "  <tbody>\n",
       "    <tr>\n",
       "      <th>0</th>\n",
       "      <td>2183</td>\n",
       "      <td>1</td>\n",
       "      <td>2183</td>\n",
       "    </tr>\n",
       "    <tr>\n",
       "      <th>2</th>\n",
       "      <td>581</td>\n",
       "      <td>4</td>\n",
       "      <td>2324</td>\n",
       "    </tr>\n",
       "    <tr>\n",
       "      <th>3</th>\n",
       "      <td>378</td>\n",
       "      <td>2</td>\n",
       "      <td>756</td>\n",
       "    </tr>\n",
       "    <tr>\n",
       "      <th>4</th>\n",
       "      <td>219</td>\n",
       "      <td>6</td>\n",
       "      <td>1314</td>\n",
       "    </tr>\n",
       "    <tr>\n",
       "      <th>5</th>\n",
       "      <td>19</td>\n",
       "      <td>3</td>\n",
       "      <td>57</td>\n",
       "    </tr>\n",
       "  </tbody>\n",
       "</table>\n",
       "</div>"
      ],
      "text/plain": [
       "   Count  Runs  Total\n",
       "0   2183     1   2183\n",
       "2    581     4   2324\n",
       "3    378     2    756\n",
       "4    219     6   1314\n",
       "5     19     3     57"
      ]
     },
     "execution_count": 20,
     "metadata": {},
     "output_type": "execute_result"
    }
   ],
   "source": [
    "# GETTING THE TOTAL RUNS SCORED FOR EACH RUN TYPE\n",
    "runs_share['Total']=runs_share['Runs']*runs_share['Count']\n",
    "runs_share.head()"
   ]
  },
  {
   "cell_type": "code",
   "execution_count": 21,
   "id": "5f5eccea",
   "metadata": {},
   "outputs": [
    {
     "data": {
      "text/plain": [
       "([<matplotlib.patches.Wedge at 0x23ab15f90d0>,\n",
       "  <matplotlib.patches.Wedge at 0x23ab15f9820>,\n",
       "  <matplotlib.patches.Wedge at 0x23ab15f9f40>,\n",
       "  <matplotlib.patches.Wedge at 0x23ab16066a0>,\n",
       "  <matplotlib.patches.Wedge at 0x23ab1606dc0>],\n",
       " [Text(0.5627320189188124, 0.9451627769244605, '1'),\n",
       "  Text(-1.1995780604217132, -0.031819443032225024, '4'),\n",
       "  Text(-0.09417025776108794, -1.095961661078165, '2'),\n",
       "  Text(0.8579227307956288, -0.6884537660469084, '6'),\n",
       "  Text(1.0995992847884182, -0.02968859870049864, '3')],\n",
       " [Text(0.30694473759207946, 0.5155433328678874, '32.9%'),\n",
       "  Text(-0.6997538685793325, -0.018561341768797927, '35.0%'),\n",
       "  Text(-0.051365595142411596, -0.597797269678999, '11.4%'),\n",
       "  Text(0.46795785316125194, -0.37552023602558643, '19.8%'),\n",
       "  Text(0.5997814280664099, -0.01619378110936289, '0.9%')])"
      ]
     },
     "execution_count": 21,
     "metadata": {},
     "output_type": "execute_result"
    },
    {
     "data": {
      "image/png": "[encoded data removed]",
      "text/plain": [
       "<Figure size 640x480 with 1 Axes>"
      ]
     },
     "metadata": {},
     "output_type": "display_data"
    }
   ],
   "source": [
    "explode=[0,0.1,0,0,0]\n",
    "plt.pie(runs_share['Total'],labels=runs_share['Runs'],autopct='%1.1f%%',explode=explode,colors=colors[::-1],wedgeprops={'edgecolor': 'black', 'linewidth': 1}, textprops={'color': 'black','weight':'bold'})"
   ]
  },
  {
   "cell_type": "markdown",
   "id": "b09173f4",
   "metadata": {},
   "source": [
    "<p style=\"color:red;\"><b>CONCLUSION :</b> </p> THE NUMBER OF FOURS HIT BY KOHLI HAS MADE A SIGNIFICANT CONTRIBUTION TO HIS TOTAL RUNS SCORED WHICH TALLIES TO 35% OF HIS TOTAL RUNS."
   ]
  },
  {
   "cell_type": "markdown",
   "id": "b0b75186",
   "metadata": {},
   "source": [
    "<h2 style=\"color:#00008b;\"> Q3. AGAINST WHICH BOWLER HAS VIRAT KOHLI BEEN DISMISSED THE MOST NUMBER OF TIMES IN IPL?\n",
    "</h2>"
   ]
  },
  {
   "cell_type": "code",
   "execution_count": 22,
   "id": "e25cc87e",
   "metadata": {},
   "outputs": [
    {
     "data": {
      "text/plain": [
       "Sandeep Sharma     7\n",
       "A Nehra            6\n",
       "RA Jadeja          5\n",
       "UT Yadav           5\n",
       "Mohammed Shami     5\n",
       "                  ..\n",
       "S Nadeem           1\n",
       "HH Pandya          1\n",
       "Shakib Al Hasan    1\n",
       "K Gowtham          1\n",
       "MM Patel           1\n",
       "Name: bowler, Length: 116, dtype: int64"
      ]
     },
     "execution_count": 22,
     "metadata": {},
     "output_type": "execute_result"
    }
   ],
   "source": [
    "df_kohli[df_kohli['isWicketDelivery']==1]['bowler'].value_counts()"
   ]
  },
  {
   "cell_type": "markdown",
   "id": "e78bbffc",
   "metadata": {},
   "source": [
    "<p style=\"color:red;\"><b>CONCLUSION :</b> </p> OUT OF ALL THE BOWLERS WHO HAVE DISMISSED VIRAT KOHLI IN THEIR CRICKETING ENCOUNTERS, SANDEEP SHARMA HAS DONE IT THE MOST NUMBER OF TIMES, WITH A COUNT OF 7 DISMISSALS."
   ]
  },
  {
   "cell_type": "markdown",
   "id": "5ba52b63",
   "metadata": {},
   "source": [
    "<h2 style=\"color:#00008b;\"> Q4. WHICH BOWLER HAS CONCEDED THE MOST NUMBER OF SIXES AGAINST VIRAT KOHLI? </h2>"
   ]
  },
  {
   "cell_type": "code",
   "execution_count": 23,
   "id": "7cba9f54",
   "metadata": {},
   "outputs": [
    {
     "data": {
      "text/plain": [
       "A Mishra         8\n",
       "UT Yadav         7\n",
       "R Ashwin         6\n",
       "KC Cariappa      6\n",
       "RP Singh         6\n",
       "                ..\n",
       "SR Watson        1\n",
       "AF Milne         1\n",
       "S Badree         1\n",
       "MM Sharma        1\n",
       "ST Jayasuriya    1\n",
       "Name: bowler, Length: 108, dtype: int64"
      ]
     },
     "execution_count": 23,
     "metadata": {},
     "output_type": "execute_result"
    }
   ],
   "source": [
    "df_kohli[df_kohli['batsman_run']==6]['bowler'].value_counts()"
   ]
  },
  {
   "cell_type": "markdown",
   "id": "0a53c79e",
   "metadata": {},
   "source": [
    "<p style=\"color:red;\"><b>CONCLUSION :</b> </p> VIRAT KOHLI HIT THE MAXIMUM NUMBER OF SIXES AGAINST AMIT MISHRA IN IPL, WITH A TOTAL COUNT OF 8. "
   ]
  },
  {
   "cell_type": "markdown",
   "id": "7385f4cd",
   "metadata": {},
   "source": [
    "<h2 style=\"color:#00008b;\"> Q5. HAS VIRAT KOHLI'S STRIKE RATE BEEN DIFFERENT IN THE FIRST INNINGS AND SECOND INNINGS? </h2>"
   ]
  },
  {
   "cell_type": "code",
   "execution_count": 24,
   "id": "eddd72b5",
   "metadata": {},
   "outputs": [],
   "source": [
    "innings1=df_kohli[df_kohli['innings']==1]\n",
    "innings2=df_kohli[df_kohli['innings']==2]"
   ]
  },
  {
   "cell_type": "code",
   "execution_count": 29,
   "id": "26327439",
   "metadata": {},
   "outputs": [
    {
     "name": "stdout",
     "output_type": "stream",
     "text": [
      "2848 2414\n"
     ]
    }
   ],
   "source": [
    "total_ball_faced_1st_innings=innings1['ballnumber'].count()\n",
    "total_balls_faced_2nd_innings=innings2['ballnumber'].count()\n",
    "print(total_ball_faced_1st_innings,total_balls_faced_2nd_innings)"
   ]
  },
  {
   "cell_type": "code",
   "execution_count": 30,
   "id": "60b509b5",
   "metadata": {},
   "outputs": [
    {
     "data": {
      "text/html": [
       "<div>\n",
       "<style scoped>\n",
       "    .dataframe tbody tr th:only-of-type {\n",
       "        vertical-align: middle;\n",
       "    }\n",
       "\n",
       "    .dataframe tbody tr th {\n",
       "        vertical-align: top;\n",
       "    }\n",
       "\n",
       "    .dataframe thead th {\n",
       "        text-align: right;\n",
       "    }\n",
       "</style>\n",
       "<table border=\"1\" class=\"dataframe\">\n",
       "  <thead>\n",
       "    <tr style=\"text-align: right;\">\n",
       "      <th></th>\n",
       "      <th>index</th>\n",
       "      <th>batsman_run</th>\n",
       "    </tr>\n",
       "  </thead>\n",
       "  <tbody>\n",
       "    <tr>\n",
       "      <th>0</th>\n",
       "      <td>1</td>\n",
       "      <td>1215</td>\n",
       "    </tr>\n",
       "    <tr>\n",
       "      <th>1</th>\n",
       "      <td>0</td>\n",
       "      <td>1002</td>\n",
       "    </tr>\n",
       "    <tr>\n",
       "      <th>2</th>\n",
       "      <td>4</td>\n",
       "      <td>291</td>\n",
       "    </tr>\n",
       "    <tr>\n",
       "      <th>3</th>\n",
       "      <td>2</td>\n",
       "      <td>211</td>\n",
       "    </tr>\n",
       "    <tr>\n",
       "      <th>4</th>\n",
       "      <td>6</td>\n",
       "      <td>122</td>\n",
       "    </tr>\n",
       "    <tr>\n",
       "      <th>5</th>\n",
       "      <td>3</td>\n",
       "      <td>7</td>\n",
       "    </tr>\n",
       "  </tbody>\n",
       "</table>\n",
       "</div>"
      ],
      "text/plain": [
       "   index  batsman_run\n",
       "0      1         1215\n",
       "1      0         1002\n",
       "2      4          291\n",
       "3      2          211\n",
       "4      6          122\n",
       "5      3            7"
      ]
     },
     "execution_count": 30,
     "metadata": {},
     "output_type": "execute_result"
    }
   ],
   "source": [
    "run_share_1st_innings=innings1['batsman_run'].value_counts().reset_index()\n",
    "run_share_1st_innings"
   ]
  },
  {
   "cell_type": "code",
   "execution_count": 31,
   "id": "5d0e03e0",
   "metadata": {},
   "outputs": [
    {
     "data": {
      "text/html": [
       "<div>\n",
       "<style scoped>\n",
       "    .dataframe tbody tr th:only-of-type {\n",
       "        vertical-align: middle;\n",
       "    }\n",
       "\n",
       "    .dataframe tbody tr th {\n",
       "        vertical-align: top;\n",
       "    }\n",
       "\n",
       "    .dataframe thead th {\n",
       "        text-align: right;\n",
       "    }\n",
       "</style>\n",
       "<table border=\"1\" class=\"dataframe\">\n",
       "  <thead>\n",
       "    <tr style=\"text-align: right;\">\n",
       "      <th></th>\n",
       "      <th>index</th>\n",
       "      <th>batsman_run</th>\n",
       "    </tr>\n",
       "  </thead>\n",
       "  <tbody>\n",
       "    <tr>\n",
       "      <th>0</th>\n",
       "      <td>1</td>\n",
       "      <td>966</td>\n",
       "    </tr>\n",
       "    <tr>\n",
       "      <th>1</th>\n",
       "      <td>0</td>\n",
       "      <td>884</td>\n",
       "    </tr>\n",
       "    <tr>\n",
       "      <th>2</th>\n",
       "      <td>4</td>\n",
       "      <td>288</td>\n",
       "    </tr>\n",
       "    <tr>\n",
       "      <th>3</th>\n",
       "      <td>2</td>\n",
       "      <td>167</td>\n",
       "    </tr>\n",
       "    <tr>\n",
       "      <th>4</th>\n",
       "      <td>6</td>\n",
       "      <td>97</td>\n",
       "    </tr>\n",
       "    <tr>\n",
       "      <th>5</th>\n",
       "      <td>3</td>\n",
       "      <td>12</td>\n",
       "    </tr>\n",
       "  </tbody>\n",
       "</table>\n",
       "</div>"
      ],
      "text/plain": [
       "   index  batsman_run\n",
       "0      1          966\n",
       "1      0          884\n",
       "2      4          288\n",
       "3      2          167\n",
       "4      6           97\n",
       "5      3           12"
      ]
     },
     "execution_count": 31,
     "metadata": {},
     "output_type": "execute_result"
    }
   ],
   "source": [
    "run_share_2nd_innings=innings2['batsman_run'].value_counts().reset_index()\n",
    "run_share_2nd_innings"
   ]
  },
  {
   "cell_type": "code",
   "execution_count": null,
   "id": "05d5690f",
   "metadata": {},
   "outputs": [],
   "source": [
    "#FILTERING OUT DATA WHICH HAS ZERO RUNS"
   ]
  },
  {
   "cell_type": "code",
   "execution_count": 33,
   "id": "9735d51c",
   "metadata": {},
   "outputs": [],
   "source": [
    "filter3=run_share_1st_innings['index']==0\n",
    "filter4=run_share_2nd_innings['index']==0\n",
    "inning1=run_share_1st_innings[~filter3]\n",
    "inning2=run_share_2nd_innings[~filter3]"
   ]
  },
  {
   "cell_type": "code",
   "execution_count": 34,
   "id": "1815a42e",
   "metadata": {},
   "outputs": [
    {
     "data": {
      "text/plain": [
       "3554"
      ]
     },
     "execution_count": 34,
     "metadata": {},
     "output_type": "execute_result"
    }
   ],
   "source": [
    "inning1['total_run']=inning1['batsman_run']*inning1['index']\n",
    "runs_1st=inning1['total_run'].sum()\n",
    "runs_1st"
   ]
  },
  {
   "cell_type": "code",
   "execution_count": 35,
   "id": "713068e8",
   "metadata": {},
   "outputs": [
    {
     "data": {
      "text/plain": [
       "3070"
      ]
     },
     "execution_count": 35,
     "metadata": {},
     "output_type": "execute_result"
    }
   ],
   "source": [
    "inning2['total_run']=inning2['batsman_run']*inning2['index']\n",
    "runs_2nd=inning2['total_run'].sum()\n",
    "runs_2nd"
   ]
  },
  {
   "cell_type": "code",
   "execution_count": null,
   "id": "b982cce0",
   "metadata": {},
   "outputs": [],
   "source": [
    "# CALCULATING THE FIRST AND SECONDING INNINGS STRIKE-RATE"
   ]
  },
  {
   "cell_type": "code",
   "execution_count": 39,
   "id": "e6c9ee80",
   "metadata": {},
   "outputs": [
    {
     "name": "stdout",
     "output_type": "stream",
     "text": [
      "VIRAT KOHLI STRIKE-RATE IN FIRST INNINGS IS 124.79 AND IN SECOND INNNINGS IS 127.17\n"
     ]
    }
   ],
   "source": [
    "first_innings_strike_rate= (runs_1st/total_ball_faced_1st_innings)*100\n",
    "second_innings_strike_rate= (runs_2nd/total_balls_faced_2nd_innings)*100\n",
    "print(\"VIRAT KOHLI STRIKE-RATE IN FIRST INNINGS IS {} AND IN SECOND INNNINGS IS {}\".format(round(first_innings_strike_rate,2),round(second_innings_strike_rate,2)))"
   ]
  },
  {
   "cell_type": "markdown",
   "id": "95b42a2b",
   "metadata": {},
   "source": [
    "<p style=\"color:red;\"><b>CONCLUSION :</b> </p>VIRAT KOHLI'S STRIKE RATE IS 124.79 IN THE FIRST INNINGS AND 127.17 IN THE SECOND INNINGS OF HIS CRICKET MATCHES."
   ]
  },
  {
   "cell_type": "markdown",
   "id": "4670df2c",
   "metadata": {},
   "source": [
    "## STEP 6 : FINDING INSIGHTS WITHIN THE TEAM DATA"
   ]
  },
  {
   "cell_type": "markdown",
   "id": "92858aa1",
   "metadata": {},
   "source": [
    "<h2 style=\"color:#00008b;\"> Q1. WHAT IS THE TOTAL RUNS SCORED BY TEAMs BETWEEN 2008-2022 </h2>"
   ]
  },
  {
   "cell_type": "code",
   "execution_count": 42,
   "id": "3154f668",
   "metadata": {},
   "outputs": [
    {
     "data": {
      "text/plain": [
       "BattingTeam\n",
       "Mumbai Indians                 36663\n",
       "Royal Challengers Bangalore    35190\n",
       "Kolkata Knight Riders          34201\n",
       "Chennai Super Kings            33393\n",
       "Kings XI Punjab                30064\n",
       "Rajasthan Royals               29681\n",
       "Delhi Daredevils               24296\n",
       "Sunrisers Hyderabad            23643\n",
       "Deccan Chargers                11463\n",
       "Delhi Capitals                 10145\n",
       "Pune Warriors                   6358\n",
       "Gujarat Lions                   4862\n",
       "Punjab Kings                    4493\n",
       "Gujarat Titans                  2663\n",
       "Lucknow Super Giants            2548\n",
       "Rising Pune Supergiant          2470\n",
       "Rising Pune Supergiants         2063\n",
       "Kochi Tuskers Kerala            1901\n",
       "Name: total_run, dtype: int64"
      ]
     },
     "execution_count": 42,
     "metadata": {},
     "output_type": "execute_result"
    }
   ],
   "source": [
    "df.groupby('BattingTeam')['total_run'].sum().sort_values(ascending=False)"
   ]
  },
  {
   "cell_type": "markdown",
   "id": "4862db7e",
   "metadata": {},
   "source": [
    "<p style=\"color:red;\"><b>CONCLUSION :</b> </p> MUMBAI INDIANS HAS THE MOST RUNS SCORED "
   ]
  },
  {
   "cell_type": "code",
   "execution_count": 44,
   "id": "29d3dbf9",
   "metadata": {},
   "outputs": [],
   "source": [
    "df['BattingTeam'].unique()\n",
    "Team={'Rajasthan Royals':'RR', 'Gujarat Titans':'GT',\n",
    "       'Royal Challengers Bangalore':'RCB', 'Lucknow Super Giants':'LSG',\n",
    "       'Sunrisers Hyderabad':'SRH', 'Punjab Kings':'KXIP', 'Delhi Capitals':'DC',\n",
    "       'Mumbai Indians':'MI', 'Chennai Super Kings':'CSK', 'Kolkata Knight Riders':'KKR',\n",
    "       'Kings XI Punjab':'KXIP', 'Delhi Daredevils':'DD', 'Rising Pune Supergiant':'RSP',\n",
    "       'Gujarat Lions':'GL', 'Rising Pune Supergiants':'RSP', 'Pune Warriors':'PWI',\n",
    "       'Deccan Chargers':'DC', 'Kochi Tuskers Kerala':'KTK'}"
   ]
  },
  {
   "cell_type": "code",
   "execution_count": 45,
   "id": "1d141776",
   "metadata": {},
   "outputs": [
    {
     "data": {
      "text/plain": [
       "array(['RR', 'GT', 'RCB', 'LSG', 'SRH', 'KXIP', 'DC', 'MI', 'CSK', 'KKR',\n",
       "       'DD', 'RSP', 'GL', 'PWI', 'KTK'], dtype=object)"
      ]
     },
     "execution_count": 45,
     "metadata": {},
     "output_type": "execute_result"
    }
   ],
   "source": [
    "# MAPPING THE DICTIONARY WITH 'BATTINGTEAM' COLUMN\n",
    "df['BattingTeam']=df['BattingTeam'].map(Team)\n",
    "df['BattingTeam'].unique()"
   ]
  },
  {
   "cell_type": "code",
   "execution_count": 46,
   "id": "18c66fc2",
   "metadata": {},
   "outputs": [
    {
     "data": {
      "text/html": [
       "<div>\n",
       "<style scoped>\n",
       "    .dataframe tbody tr th:only-of-type {\n",
       "        vertical-align: middle;\n",
       "    }\n",
       "\n",
       "    .dataframe tbody tr th {\n",
       "        vertical-align: top;\n",
       "    }\n",
       "\n",
       "    .dataframe thead th {\n",
       "        text-align: right;\n",
       "    }\n",
       "</style>\n",
       "<table border=\"1\" class=\"dataframe\">\n",
       "  <thead>\n",
       "    <tr style=\"text-align: right;\">\n",
       "      <th></th>\n",
       "      <th>ID</th>\n",
       "      <th>innings</th>\n",
       "      <th>BattingTeam</th>\n",
       "      <th>total_run</th>\n",
       "    </tr>\n",
       "  </thead>\n",
       "  <tbody>\n",
       "    <tr>\n",
       "      <th>0</th>\n",
       "      <td>335982</td>\n",
       "      <td>1</td>\n",
       "      <td>KKR</td>\n",
       "      <td>222</td>\n",
       "    </tr>\n",
       "    <tr>\n",
       "      <th>1</th>\n",
       "      <td>335982</td>\n",
       "      <td>2</td>\n",
       "      <td>RCB</td>\n",
       "      <td>82</td>\n",
       "    </tr>\n",
       "    <tr>\n",
       "      <th>2</th>\n",
       "      <td>335983</td>\n",
       "      <td>1</td>\n",
       "      <td>CSK</td>\n",
       "      <td>240</td>\n",
       "    </tr>\n",
       "    <tr>\n",
       "      <th>3</th>\n",
       "      <td>335983</td>\n",
       "      <td>2</td>\n",
       "      <td>KXIP</td>\n",
       "      <td>207</td>\n",
       "    </tr>\n",
       "    <tr>\n",
       "      <th>4</th>\n",
       "      <td>335984</td>\n",
       "      <td>1</td>\n",
       "      <td>RR</td>\n",
       "      <td>129</td>\n",
       "    </tr>\n",
       "  </tbody>\n",
       "</table>\n",
       "</div>"
      ],
      "text/plain": [
       "       ID  innings BattingTeam  total_run\n",
       "0  335982        1         KKR        222\n",
       "1  335982        2         RCB         82\n",
       "2  335983        1         CSK        240\n",
       "3  335983        2        KXIP        207\n",
       "4  335984        1          RR        129"
      ]
     },
     "execution_count": 46,
     "metadata": {},
     "output_type": "execute_result"
    }
   ],
   "source": [
    "# RUNS IN EACH INNINGS\n",
    "runs=df.groupby(['ID','innings','BattingTeam'])['total_run'].sum().reset_index()\n",
    "runs.head()"
   ]
  },
  {
   "cell_type": "markdown",
   "id": "1cf675a0",
   "metadata": {},
   "source": [
    "<h2 style=\"color:#00008b;\"> Q2. WHICH TEAM HAS MOST FIRST INNINGS AND SECOND INNINGS SCORE? </h2> "
   ]
  },
  {
   "cell_type": "code",
   "execution_count": 47,
   "id": "8df6e274",
   "metadata": {},
   "outputs": [],
   "source": [
    "# SEPARATING THE RUNS IN EACH INNINGS\n",
    "inning1=runs[runs['innings']==1]\n",
    "inning2=runs[runs['innings']==2]"
   ]
  },
  {
   "cell_type": "code",
   "execution_count": 48,
   "id": "c8dd9007",
   "metadata": {},
   "outputs": [
    {
     "data": {
      "text/plain": [
       "(array([ 0,  1,  2,  3,  4,  5,  6,  7,  8,  9, 10, 11, 12, 13, 14]),\n",
       " [Text(0, 0, 'KKR'),\n",
       "  Text(1, 0, 'CSK'),\n",
       "  Text(2, 0, 'RR'),\n",
       "  Text(3, 0, 'MI'),\n",
       "  Text(4, 0, 'DC'),\n",
       "  Text(5, 0, 'KXIP'),\n",
       "  Text(6, 0, 'RCB'),\n",
       "  Text(7, 0, 'DD'),\n",
       "  Text(8, 0, 'KTK'),\n",
       "  Text(9, 0, 'PWI'),\n",
       "  Text(10, 0, 'SRH'),\n",
       "  Text(11, 0, 'RSP'),\n",
       "  Text(12, 0, 'GL'),\n",
       "  Text(13, 0, 'LSG'),\n",
       "  Text(14, 0, 'GT')])"
      ]
     },
     "execution_count": 48,
     "metadata": {},
     "output_type": "execute_result"
    },
    {
     "data": {
      "image/png": "[encoded data removed]",
      "text/plain": [
       "<Figure size 640x480 with 1 Axes>"
      ]
     },
     "metadata": {},
     "output_type": "display_data"
    }
   ],
   "source": [
    "sns.boxplot(x='BattingTeam',y='total_run',data=inning1,palette=colors)\n",
    "plt.xticks(rotation='vertical')"
   ]
  },
  {
   "cell_type": "markdown",
   "id": "83908c19",
   "metadata": {},
   "source": [
    "<p style=\"color:green;\"><b>INSIGHT:</b></p> RCB HAS AN OUTLIER ABOVE 250. THIS WAS IN 2013 WHEN RCB SCORED 263/5 .GAYLE HIMSELF HAD SCORED 175 WHICH WAS THE HIGHEST T20 INDIVIDUAL SCORE. "
   ]
  },
  {
   "cell_type": "code",
   "execution_count": 49,
   "id": "1f52d61e",
   "metadata": {},
   "outputs": [
    {
     "data": {
      "text/plain": [
       "<AxesSubplot:xlabel='BattingTeam', ylabel='total_run'>"
      ]
     },
     "execution_count": 49,
     "metadata": {},
     "output_type": "execute_result"
    },
    {
     "data": {
      "image/png": "[encoded data removed]",
      "text/plain": [
       "<Figure size 640x480 with 1 Axes>"
      ]
     },
     "metadata": {},
     "output_type": "display_data"
    }
   ],
   "source": [
    "sns.boxplot(x='BattingTeam',y='total_run',data=inning2,palette=colors[::-1])"
   ]
  },
  {
   "cell_type": "markdown",
   "id": "89aa742e",
   "metadata": {},
   "source": [
    "<p style=\"color:green;\"><b>INSIGHT:</b></p> HERE AGAIN RCB HAVE AN OUTLIER AT 50. THIS WAS ON 2017 AGAINST KKR. MAKING THIS THE LOWEST SCORE IN THE IPL. NOTE THE OTHER OUTLIER WAS BECAUSE OF MATCH CALLED OFF DUE TO RAIN."
   ]
  },
  {
   "cell_type": "code",
   "execution_count": 50,
   "id": "458e58fb",
   "metadata": {},
   "outputs": [
    {
     "data": {
      "text/plain": [
       "BattingTeam\n",
       "MI      20407\n",
       "CSK     18826\n",
       "KXIP    18635\n",
       "RCB     18555\n",
       "KKR     16614\n",
       "RR      14678\n",
       "SRH     12517\n",
       "DC      11572\n",
       "DD      11247\n",
       "PWI      2973\n",
       "RSP      2427\n",
       "GL       2267\n",
       "LSG      1428\n",
       "GT       1136\n",
       "KTK      1009\n",
       "Name: total_run, dtype: int64"
      ]
     },
     "execution_count": 50,
     "metadata": {},
     "output_type": "execute_result"
    }
   ],
   "source": [
    "inning1.groupby('BattingTeam')['total_run'].sum().sort_values(ascending=False)"
   ]
  },
  {
   "cell_type": "markdown",
   "id": "7721be8a",
   "metadata": {},
   "source": [
    "<p style=\"color:red;\"><b>CONCLUSION :</b> </p> MUMBAI INDIANS (MI) HAS THE MOST FIRST INNINGS SCORE."
   ]
  },
  {
   "cell_type": "code",
   "execution_count": 51,
   "id": "2234b77d",
   "metadata": {},
   "outputs": [
    {
     "data": {
      "text/plain": [
       "BattingTeam\n",
       "KKR     17551\n",
       "RCB     16594\n",
       "MI      16213\n",
       "KXIP    15875\n",
       "RR      14968\n",
       "CSK     14558\n",
       "DD      13038\n",
       "SRH     11089\n",
       "DC      10015\n",
       "PWI      3385\n",
       "GL       2589\n",
       "RSP      2106\n",
       "GT       1527\n",
       "LSG      1120\n",
       "KTK       892\n",
       "Name: total_run, dtype: int64"
      ]
     },
     "execution_count": 51,
     "metadata": {},
     "output_type": "execute_result"
    }
   ],
   "source": [
    "inning2.groupby('BattingTeam')['total_run'].sum().sort_values(ascending=False)"
   ]
  },
  {
   "cell_type": "markdown",
   "id": "7fe7a613",
   "metadata": {},
   "source": [
    "<p style=\"color:red;\"><b>CONCLUSION :</b> </p> KKR SECOND INNINGS MOST SECOND INNINGS SCORE."
   ]
  },
  {
   "cell_type": "markdown",
   "id": "b1bd1f4e",
   "metadata": {},
   "source": [
    "<h2 style=\"color:#00008b;\"> Q3. WHICH TEAM HAS THE HIGHEST AVERAGE PER GAME IN FIRST AND SECOND INNINGS? </h2>"
   ]
  },
  {
   "cell_type": "code",
   "execution_count": 52,
   "id": "676a1918",
   "metadata": {},
   "outputs": [
    {
     "name": "stdout",
     "output_type": "stream",
     "text": [
      "   BattingTeam  total_run   ID  average_runs_per_game\n",
      "0          LSG       1428    8             178.500000\n",
      "1          CSK      18826  113             166.601770\n",
      "2           MI      20407  123             165.910569\n",
      "3          RCB      18555  112             165.669643\n",
      "4          SRH      12517   77             162.558442\n",
      "5           GT       1136    7             162.285714\n",
      "6         KXIP      18635  115             162.043478\n",
      "7           GL       2267   14             161.928571\n",
      "8          RSP       2427   15             161.800000\n",
      "9           RR      14678   91             161.296703\n",
      "10          DC      11572   72             160.722222\n",
      "11         KKR      16614  104             159.750000\n",
      "12          DD      11247   72             156.208333\n",
      "13         PWI       2973   20             148.650000\n",
      "14         KTK       1009    7             144.142857\n"
     ]
    }
   ],
   "source": [
    "# CALCULATING AVERAGE FIRST INNINGS SCORE\n",
    "innings1_stats = inning1.groupby('BattingTeam').agg({'total_run': 'sum', 'ID': 'nunique'})\n",
    "\n",
    "innings1_stats['average_runs_per_game'] = innings1_stats['total_run'] / innings1_stats['ID']\n",
    "innings1_stats = innings1_stats.sort_values('average_runs_per_game', ascending=False)\n",
    "print(innings1_stats.reset_index())"
   ]
  },
  {
   "cell_type": "code",
   "execution_count": 53,
   "id": "863c1798",
   "metadata": {},
   "outputs": [
    {
     "name": "stdout",
     "output_type": "stream",
     "text": [
      "             total_run   ID  average_runs_per_game\n",
      "BattingTeam                                       \n",
      "GT                1527    9             169.666667\n",
      "GL                2589   16             161.812500\n",
      "LSG               1120    7             160.000000\n",
      "KXIP             15875  103             154.126214\n",
      "CSK              14558   95             153.242105\n",
      "DC               10015   66             151.742424\n",
      "MI               16213  108             150.120370\n",
      "RR               14968  100             149.680000\n",
      "SRH              11089   75             147.853333\n",
      "KKR              17551  119             147.487395\n",
      "DD               13038   89             146.494382\n",
      "RCB              16594  114             145.561404\n",
      "RSP               2106   15             140.400000\n",
      "PWI               3385   25             135.400000\n",
      "KTK                892    7             127.428571\n"
     ]
    }
   ],
   "source": [
    "# CALCULATING AVERAGE SECOND INNINGS SCORE\n",
    "innings2_stats = inning2.groupby('BattingTeam').agg({'total_run': 'sum', 'ID': 'nunique'})\n",
    "\n",
    "innings2_stats['average_runs_per_game'] = innings2_stats['total_run'] / innings2_stats['ID']\n",
    "innings2_stats = innings2_stats.sort_values('average_runs_per_game', ascending=False)\n",
    "print(innings2_stats)"
   ]
  },
  {
   "cell_type": "markdown",
   "id": "24d1d3ff",
   "metadata": {},
   "source": [
    "<p style=\"color:red;\"><b>CONCLUSION :</b> </p> LSG HAD THE HIGHEST FIRST INNING SCORE, WHILE GT HAS THE HIGHEST SECOND INNING SCORE. IT IS NOTEWORTHY THAT BOTH OF THESE TEAMS ARE RELATIVELY NEW, WHICH MAY HAVE AN IMPACT ON THE INSIGHT."
   ]
  },
  {
   "cell_type": "markdown",
   "id": "1aae3c84",
   "metadata": {},
   "source": [
    "<h2 style=\"color:#00008b;\"> Q4. WHICH TEAM SCORED THE MAXIMUM AMOUNT OF 200+ RUNS IN FIRST INNINGS?</h2>"
   ]
  },
  {
   "cell_type": "code",
   "execution_count": 54,
   "id": "ef9530e7",
   "metadata": {},
   "outputs": [
    {
     "data": {
      "text/html": [
       "<div>\n",
       "<style scoped>\n",
       "    .dataframe tbody tr th:only-of-type {\n",
       "        vertical-align: middle;\n",
       "    }\n",
       "\n",
       "    .dataframe tbody tr th {\n",
       "        vertical-align: top;\n",
       "    }\n",
       "\n",
       "    .dataframe thead th {\n",
       "        text-align: right;\n",
       "    }\n",
       "</style>\n",
       "<table border=\"1\" class=\"dataframe\">\n",
       "  <thead>\n",
       "    <tr style=\"text-align: right;\">\n",
       "      <th></th>\n",
       "      <th>BattingTeam</th>\n",
       "      <th>Count</th>\n",
       "    </tr>\n",
       "  </thead>\n",
       "  <tbody>\n",
       "    <tr>\n",
       "      <th>0</th>\n",
       "      <td>RCB</td>\n",
       "      <td>20</td>\n",
       "    </tr>\n",
       "    <tr>\n",
       "      <th>1</th>\n",
       "      <td>CSK</td>\n",
       "      <td>17</td>\n",
       "    </tr>\n",
       "    <tr>\n",
       "      <th>2</th>\n",
       "      <td>MI</td>\n",
       "      <td>12</td>\n",
       "    </tr>\n",
       "    <tr>\n",
       "      <th>3</th>\n",
       "      <td>KXIP</td>\n",
       "      <td>10</td>\n",
       "    </tr>\n",
       "    <tr>\n",
       "      <th>4</th>\n",
       "      <td>SRH</td>\n",
       "      <td>10</td>\n",
       "    </tr>\n",
       "  </tbody>\n",
       "</table>\n",
       "</div>"
      ],
      "text/plain": [
       "  BattingTeam  Count\n",
       "0         RCB     20\n",
       "1         CSK     17\n",
       "2          MI     12\n",
       "3        KXIP     10\n",
       "4         SRH     10"
      ]
     },
     "execution_count": 54,
     "metadata": {},
     "output_type": "execute_result"
    }
   ],
   "source": [
    "max_200=inning1[inning1['total_run']>=200]['BattingTeam'].value_counts()[:11]\n",
    "max_200=max_200.head().to_frame()\n",
    "max_200.reset_index(inplace=True)\n",
    "max_200.columns=['BattingTeam','Count']\n",
    "max_200.head()"
   ]
  },
  {
   "cell_type": "code",
   "execution_count": 55,
   "id": "42ecf441",
   "metadata": {},
   "outputs": [
    {
     "data": {
      "text/plain": [
       "<AxesSubplot:xlabel='BattingTeam', ylabel='Count'>"
      ]
     },
     "execution_count": 55,
     "metadata": {},
     "output_type": "execute_result"
    },
    {
     "data": {
      "image/png": "[encoded data removed]",
      "text/plain": [
       "<Figure size 640x480 with 1 Axes>"
      ]
     },
     "metadata": {},
     "output_type": "display_data"
    }
   ],
   "source": [
    "sns.barplot(x=max_200['BattingTeam'],y=max_200['Count'],data=max_200,palette=colors[::-1])"
   ]
  },
  {
   "cell_type": "markdown",
   "id": "4dde8434",
   "metadata": {},
   "source": [
    "<p style=\"color:red;\"><b>CONCLUSION :</b> </p> RCB HAS HIGHEST NUMBER OF 200+ RUNS IN FIRST INNINGS"
   ]
  },
  {
   "cell_type": "markdown",
   "id": "d4d12b62",
   "metadata": {},
   "source": [
    "<h2 style=\"color:#00008b;\"> Q5. WHICH TEAM SCORED THE MAXIMUM AMOUNT OF 200+ RUNS IN SECOND INNINGS?</h2>"
   ]
  },
  {
   "cell_type": "code",
   "execution_count": 56,
   "id": "f5b88958",
   "metadata": {},
   "outputs": [
    {
     "data": {
      "text/html": [
       "<div>\n",
       "<style scoped>\n",
       "    .dataframe tbody tr th:only-of-type {\n",
       "        vertical-align: middle;\n",
       "    }\n",
       "\n",
       "    .dataframe tbody tr th {\n",
       "        vertical-align: top;\n",
       "    }\n",
       "\n",
       "    .dataframe thead th {\n",
       "        text-align: right;\n",
       "    }\n",
       "</style>\n",
       "<table border=\"1\" class=\"dataframe\">\n",
       "  <thead>\n",
       "    <tr style=\"text-align: right;\">\n",
       "      <th></th>\n",
       "      <th>BattingTeam</th>\n",
       "      <th>Count</th>\n",
       "    </tr>\n",
       "  </thead>\n",
       "  <tbody>\n",
       "    <tr>\n",
       "      <th>0</th>\n",
       "      <td>KXIP</td>\n",
       "      <td>7</td>\n",
       "    </tr>\n",
       "    <tr>\n",
       "      <th>1</th>\n",
       "      <td>KKR</td>\n",
       "      <td>7</td>\n",
       "    </tr>\n",
       "    <tr>\n",
       "      <th>2</th>\n",
       "      <td>CSK</td>\n",
       "      <td>6</td>\n",
       "    </tr>\n",
       "    <tr>\n",
       "      <th>3</th>\n",
       "      <td>RR</td>\n",
       "      <td>5</td>\n",
       "    </tr>\n",
       "    <tr>\n",
       "      <th>4</th>\n",
       "      <td>MI</td>\n",
       "      <td>4</td>\n",
       "    </tr>\n",
       "  </tbody>\n",
       "</table>\n",
       "</div>"
      ],
      "text/plain": [
       "  BattingTeam  Count\n",
       "0        KXIP      7\n",
       "1         KKR      7\n",
       "2         CSK      6\n",
       "3          RR      5\n",
       "4          MI      4"
      ]
     },
     "execution_count": 56,
     "metadata": {},
     "output_type": "execute_result"
    }
   ],
   "source": [
    "max_200_2nd=inning2[inning2['total_run']>=200]['BattingTeam'].value_counts()[:11]\n",
    "max_200_2nd=max_200_2nd.reset_index()\n",
    "max_200_2nd.columns=['BattingTeam','Count']\n",
    "max_200_2nd=max_200_2nd[:5]\n",
    "max_200_2nd.head()"
   ]
  },
  {
   "cell_type": "code",
   "execution_count": 86,
   "id": "e8883e4e",
   "metadata": {},
   "outputs": [
    {
     "data": {
      "text/plain": [
       "<AxesSubplot:xlabel='BattingTeam', ylabel='Count'>"
      ]
     },
     "execution_count": 86,
     "metadata": {},
     "output_type": "execute_result"
    },
    {
     "data": {
      "image/png": "[encoded data removed]",
      "text/plain": [
       "<Figure size 640x480 with 1 Axes>"
      ]
     },
     "metadata": {},
     "output_type": "display_data"
    }
   ],
   "source": [
    "sns.barplot(x=max_200_2nd['BattingTeam'],y=max_200_2nd['Count'],data=max_200_2nd,palette=colors[::-1])"
   ]
  },
  {
   "cell_type": "markdown",
   "id": "edcdb15f",
   "metadata": {},
   "source": [
    "<p style=\"color:red;\"><b>CONCLUSION :</b> </p> KXIP AND KKR  HAS HIGHEST NUMBER OF 200+ RUNS IN SECOND INNINGS"
   ]
  },
  {
   "cell_type": "markdown",
   "id": "00983ce6",
   "metadata": {},
   "source": [
    "## STEP 7: FINDING INSIGHTS WITHIN BATSMAN DATA"
   ]
  },
  {
   "cell_type": "code",
   "execution_count": 59,
   "id": "d8ed787b",
   "metadata": {},
   "outputs": [],
   "source": [
    "# COUNTING THE TOTAL NUMBER OF BALLS PLAYED BY A BATTER\n",
    "no_of_balls=df.groupby('batter')['ballnumber'].count().reset_index()\n",
    "\n",
    "# COUNTING THE TTAL NUMBER OF RUNS SCORED BY A BATTER\n",
    "total_batsman_runs=df.groupby('batter')['batsman_run'].sum().reset_index()"
   ]
  },
  {
   "cell_type": "code",
   "execution_count": 60,
   "id": "33235186",
   "metadata": {},
   "outputs": [
    {
     "data": {
      "text/html": [
       "<div>\n",
       "<style scoped>\n",
       "    .dataframe tbody tr th:only-of-type {\n",
       "        vertical-align: middle;\n",
       "    }\n",
       "\n",
       "    .dataframe tbody tr th {\n",
       "        vertical-align: top;\n",
       "    }\n",
       "\n",
       "    .dataframe thead th {\n",
       "        text-align: right;\n",
       "    }\n",
       "</style>\n",
       "<table border=\"1\" class=\"dataframe\">\n",
       "  <thead>\n",
       "    <tr style=\"text-align: right;\">\n",
       "      <th></th>\n",
       "      <th>batsman</th>\n",
       "      <th>4s</th>\n",
       "    </tr>\n",
       "  </thead>\n",
       "  <tbody>\n",
       "    <tr>\n",
       "      <th>0</th>\n",
       "      <td>A Ashish Reddy</td>\n",
       "      <td>16</td>\n",
       "    </tr>\n",
       "    <tr>\n",
       "      <th>1</th>\n",
       "      <td>A Badoni</td>\n",
       "      <td>11</td>\n",
       "    </tr>\n",
       "    <tr>\n",
       "      <th>2</th>\n",
       "      <td>A Chopra</td>\n",
       "      <td>7</td>\n",
       "    </tr>\n",
       "    <tr>\n",
       "      <th>3</th>\n",
       "      <td>A Choudhary</td>\n",
       "      <td>1</td>\n",
       "    </tr>\n",
       "    <tr>\n",
       "      <th>4</th>\n",
       "      <td>A Flintoff</td>\n",
       "      <td>5</td>\n",
       "    </tr>\n",
       "    <tr>\n",
       "      <th>...</th>\n",
       "      <td>...</td>\n",
       "      <td>...</td>\n",
       "    </tr>\n",
       "    <tr>\n",
       "      <th>479</th>\n",
       "      <td>YK Pathan</td>\n",
       "      <td>263</td>\n",
       "    </tr>\n",
       "    <tr>\n",
       "      <th>480</th>\n",
       "      <td>YV Takawale</td>\n",
       "      <td>26</td>\n",
       "    </tr>\n",
       "    <tr>\n",
       "      <th>481</th>\n",
       "      <td>Yashpal Singh</td>\n",
       "      <td>5</td>\n",
       "    </tr>\n",
       "    <tr>\n",
       "      <th>482</th>\n",
       "      <td>Yuvraj Singh</td>\n",
       "      <td>218</td>\n",
       "    </tr>\n",
       "    <tr>\n",
       "      <th>483</th>\n",
       "      <td>Z Khan</td>\n",
       "      <td>11</td>\n",
       "    </tr>\n",
       "  </tbody>\n",
       "</table>\n",
       "<p>484 rows × 2 columns</p>\n",
       "</div>"
      ],
      "text/plain": [
       "            batsman   4s\n",
       "0    A Ashish Reddy   16\n",
       "1          A Badoni   11\n",
       "2          A Chopra    7\n",
       "3       A Choudhary    1\n",
       "4        A Flintoff    5\n",
       "..              ...  ...\n",
       "479       YK Pathan  263\n",
       "480     YV Takawale   26\n",
       "481   Yashpal Singh    5\n",
       "482    Yuvraj Singh  218\n",
       "483          Z Khan   11\n",
       "\n",
       "[484 rows x 2 columns]"
      ]
     },
     "execution_count": 60,
     "metadata": {},
     "output_type": "execute_result"
    }
   ],
   "source": [
    "# COUNTING THE TOTAL NUMBER OF 4s HIT BY THE BATTER\n",
    "no_of_four=df[df['batsman_run']==4]\n",
    "runs_four=no_of_four.groupby('batter')['batsman_run'].count().reset_index()\n",
    "runs_four.columns=['batsman','4s']\n",
    "runs_four"
   ]
  },
  {
   "cell_type": "code",
   "execution_count": 61,
   "id": "85596456",
   "metadata": {},
   "outputs": [
    {
     "data": {
      "text/html": [
       "<div>\n",
       "<style scoped>\n",
       "    .dataframe tbody tr th:only-of-type {\n",
       "        vertical-align: middle;\n",
       "    }\n",
       "\n",
       "    .dataframe tbody tr th {\n",
       "        vertical-align: top;\n",
       "    }\n",
       "\n",
       "    .dataframe thead th {\n",
       "        text-align: right;\n",
       "    }\n",
       "</style>\n",
       "<table border=\"1\" class=\"dataframe\">\n",
       "  <thead>\n",
       "    <tr style=\"text-align: right;\">\n",
       "      <th></th>\n",
       "      <th>batsman</th>\n",
       "      <th>6s</th>\n",
       "    </tr>\n",
       "  </thead>\n",
       "  <tbody>\n",
       "    <tr>\n",
       "      <th>0</th>\n",
       "      <td>A Ashish Reddy</td>\n",
       "      <td>15</td>\n",
       "    </tr>\n",
       "    <tr>\n",
       "      <th>1</th>\n",
       "      <td>A Badoni</td>\n",
       "      <td>7</td>\n",
       "    </tr>\n",
       "    <tr>\n",
       "      <th>2</th>\n",
       "      <td>A Choudhary</td>\n",
       "      <td>1</td>\n",
       "    </tr>\n",
       "    <tr>\n",
       "      <th>3</th>\n",
       "      <td>A Flintoff</td>\n",
       "      <td>2</td>\n",
       "    </tr>\n",
       "    <tr>\n",
       "      <th>4</th>\n",
       "      <td>A Manohar</td>\n",
       "      <td>3</td>\n",
       "    </tr>\n",
       "    <tr>\n",
       "      <th>...</th>\n",
       "      <td>...</td>\n",
       "      <td>...</td>\n",
       "    </tr>\n",
       "    <tr>\n",
       "      <th>395</th>\n",
       "      <td>YBK Jaiswal</td>\n",
       "      <td>22</td>\n",
       "    </tr>\n",
       "    <tr>\n",
       "      <th>396</th>\n",
       "      <td>YK Pathan</td>\n",
       "      <td>161</td>\n",
       "    </tr>\n",
       "    <tr>\n",
       "      <th>397</th>\n",
       "      <td>YV Takawale</td>\n",
       "      <td>3</td>\n",
       "    </tr>\n",
       "    <tr>\n",
       "      <th>398</th>\n",
       "      <td>Yuvraj Singh</td>\n",
       "      <td>149</td>\n",
       "    </tr>\n",
       "    <tr>\n",
       "      <th>399</th>\n",
       "      <td>Z Khan</td>\n",
       "      <td>2</td>\n",
       "    </tr>\n",
       "  </tbody>\n",
       "</table>\n",
       "<p>400 rows × 2 columns</p>\n",
       "</div>"
      ],
      "text/plain": [
       "            batsman   6s\n",
       "0    A Ashish Reddy   15\n",
       "1          A Badoni    7\n",
       "2       A Choudhary    1\n",
       "3        A Flintoff    2\n",
       "4         A Manohar    3\n",
       "..              ...  ...\n",
       "395     YBK Jaiswal   22\n",
       "396       YK Pathan  161\n",
       "397     YV Takawale    3\n",
       "398    Yuvraj Singh  149\n",
       "399          Z Khan    2\n",
       "\n",
       "[400 rows x 2 columns]"
      ]
     },
     "execution_count": 61,
     "metadata": {},
     "output_type": "execute_result"
    }
   ],
   "source": [
    "# COUNTING THE TOTAL NUMBER OF 6s HIT BY THE BATTER\n",
    "no_of_six=df[df['batsman_run']==6]\n",
    "runs_six=no_of_six.groupby('batter')['batsman_run'].count().reset_index()\n",
    "runs_six.columns=['batsman','6s']\n",
    "runs_six"
   ]
  },
  {
   "cell_type": "code",
   "execution_count": 62,
   "id": "0b397abf",
   "metadata": {},
   "outputs": [
    {
     "data": {
      "text/html": [
       "<div>\n",
       "<style scoped>\n",
       "    .dataframe tbody tr th:only-of-type {\n",
       "        vertical-align: middle;\n",
       "    }\n",
       "\n",
       "    .dataframe tbody tr th {\n",
       "        vertical-align: top;\n",
       "    }\n",
       "\n",
       "    .dataframe thead th {\n",
       "        text-align: right;\n",
       "    }\n",
       "</style>\n",
       "<table border=\"1\" class=\"dataframe\">\n",
       "  <thead>\n",
       "    <tr style=\"text-align: right;\">\n",
       "      <th></th>\n",
       "      <th>batter</th>\n",
       "      <th>batsman_run</th>\n",
       "      <th>ballnumber</th>\n",
       "      <th>4s</th>\n",
       "      <th>6s</th>\n",
       "    </tr>\n",
       "  </thead>\n",
       "  <tbody>\n",
       "    <tr>\n",
       "      <th>0</th>\n",
       "      <td>A Ashish Reddy</td>\n",
       "      <td>280</td>\n",
       "      <td>196</td>\n",
       "      <td>16.0</td>\n",
       "      <td>15.0</td>\n",
       "    </tr>\n",
       "    <tr>\n",
       "      <th>1</th>\n",
       "      <td>A Badoni</td>\n",
       "      <td>161</td>\n",
       "      <td>139</td>\n",
       "      <td>11.0</td>\n",
       "      <td>7.0</td>\n",
       "    </tr>\n",
       "    <tr>\n",
       "      <th>2</th>\n",
       "      <td>A Chandila</td>\n",
       "      <td>4</td>\n",
       "      <td>7</td>\n",
       "      <td>7.0</td>\n",
       "      <td>1.0</td>\n",
       "    </tr>\n",
       "    <tr>\n",
       "      <th>3</th>\n",
       "      <td>A Chopra</td>\n",
       "      <td>53</td>\n",
       "      <td>75</td>\n",
       "      <td>1.0</td>\n",
       "      <td>2.0</td>\n",
       "    </tr>\n",
       "    <tr>\n",
       "      <th>4</th>\n",
       "      <td>A Choudhary</td>\n",
       "      <td>25</td>\n",
       "      <td>20</td>\n",
       "      <td>5.0</td>\n",
       "      <td>3.0</td>\n",
       "    </tr>\n",
       "  </tbody>\n",
       "</table>\n",
       "</div>"
      ],
      "text/plain": [
       "           batter  batsman_run  ballnumber    4s    6s\n",
       "0  A Ashish Reddy          280         196  16.0  15.0\n",
       "1        A Badoni          161         139  11.0   7.0\n",
       "2      A Chandila            4           7   7.0   1.0\n",
       "3        A Chopra           53          75   1.0   2.0\n",
       "4     A Choudhary           25          20   5.0   3.0"
      ]
     },
     "execution_count": 62,
     "metadata": {},
     "output_type": "execute_result"
    }
   ],
   "source": [
    "# CONCAT THE ABOVE DATAFRAMES INTO PLAYER DATAFRAME\n",
    "player=pd.concat([total_batsman_runs,no_of_balls.iloc[:,1],runs_four.iloc[:,1],runs_six.iloc[:,1]],axis=1)\n",
    "player.fillna(0,inplace=True)\n",
    "player.head()"
   ]
  },
  {
   "cell_type": "code",
   "execution_count": 63,
   "id": "8656a2e5",
   "metadata": {},
   "outputs": [
    {
     "data": {
      "text/html": [
       "<div>\n",
       "<style scoped>\n",
       "    .dataframe tbody tr th:only-of-type {\n",
       "        vertical-align: middle;\n",
       "    }\n",
       "\n",
       "    .dataframe tbody tr th {\n",
       "        vertical-align: top;\n",
       "    }\n",
       "\n",
       "    .dataframe thead th {\n",
       "        text-align: right;\n",
       "    }\n",
       "</style>\n",
       "<table border=\"1\" class=\"dataframe\">\n",
       "  <thead>\n",
       "    <tr style=\"text-align: right;\">\n",
       "      <th></th>\n",
       "      <th>batter</th>\n",
       "      <th>batsman_run</th>\n",
       "      <th>ballnumber</th>\n",
       "      <th>4s</th>\n",
       "      <th>6s</th>\n",
       "      <th>strike_rate</th>\n",
       "    </tr>\n",
       "  </thead>\n",
       "  <tbody>\n",
       "    <tr>\n",
       "      <th>0</th>\n",
       "      <td>A Ashish Reddy</td>\n",
       "      <td>280</td>\n",
       "      <td>196</td>\n",
       "      <td>16.0</td>\n",
       "      <td>15.0</td>\n",
       "      <td>142.857143</td>\n",
       "    </tr>\n",
       "    <tr>\n",
       "      <th>1</th>\n",
       "      <td>A Badoni</td>\n",
       "      <td>161</td>\n",
       "      <td>139</td>\n",
       "      <td>11.0</td>\n",
       "      <td>7.0</td>\n",
       "      <td>115.827338</td>\n",
       "    </tr>\n",
       "    <tr>\n",
       "      <th>2</th>\n",
       "      <td>A Chandila</td>\n",
       "      <td>4</td>\n",
       "      <td>7</td>\n",
       "      <td>7.0</td>\n",
       "      <td>1.0</td>\n",
       "      <td>57.142857</td>\n",
       "    </tr>\n",
       "    <tr>\n",
       "      <th>3</th>\n",
       "      <td>A Chopra</td>\n",
       "      <td>53</td>\n",
       "      <td>75</td>\n",
       "      <td>1.0</td>\n",
       "      <td>2.0</td>\n",
       "      <td>70.666667</td>\n",
       "    </tr>\n",
       "    <tr>\n",
       "      <th>4</th>\n",
       "      <td>A Choudhary</td>\n",
       "      <td>25</td>\n",
       "      <td>20</td>\n",
       "      <td>5.0</td>\n",
       "      <td>3.0</td>\n",
       "      <td>125.000000</td>\n",
       "    </tr>\n",
       "  </tbody>\n",
       "</table>\n",
       "</div>"
      ],
      "text/plain": [
       "           batter  batsman_run  ballnumber    4s    6s  strike_rate\n",
       "0  A Ashish Reddy          280         196  16.0  15.0   142.857143\n",
       "1        A Badoni          161         139  11.0   7.0   115.827338\n",
       "2      A Chandila            4           7   7.0   1.0    57.142857\n",
       "3        A Chopra           53          75   1.0   2.0    70.666667\n",
       "4     A Choudhary           25          20   5.0   3.0   125.000000"
      ]
     },
     "execution_count": 63,
     "metadata": {},
     "output_type": "execute_result"
    }
   ],
   "source": [
    "# CALCULATING STRIKE-RATE FOR THE BATTER\n",
    "player['strike_rate']=(player['batsman_run']/player['ballnumber'])*100\n",
    "player.head()"
   ]
  },
  {
   "cell_type": "code",
   "execution_count": 64,
   "id": "4b7cee07",
   "metadata": {},
   "outputs": [],
   "source": [
    "grp=df.groupby(['ID','batter','BattingTeam'])['batsman_run'].sum().reset_index()"
   ]
  },
  {
   "cell_type": "code",
   "execution_count": 65,
   "id": "c50656ca",
   "metadata": {},
   "outputs": [
    {
     "data": {
      "text/html": [
       "<div>\n",
       "<style scoped>\n",
       "    .dataframe tbody tr th:only-of-type {\n",
       "        vertical-align: middle;\n",
       "    }\n",
       "\n",
       "    .dataframe tbody tr th {\n",
       "        vertical-align: top;\n",
       "    }\n",
       "\n",
       "    .dataframe thead th {\n",
       "        text-align: right;\n",
       "    }\n",
       "</style>\n",
       "<table border=\"1\" class=\"dataframe\">\n",
       "  <thead>\n",
       "    <tr style=\"text-align: right;\">\n",
       "      <th></th>\n",
       "      <th>ID</th>\n",
       "      <th>batter</th>\n",
       "      <th>BattingTeam</th>\n",
       "      <th>batsman_run</th>\n",
       "    </tr>\n",
       "  </thead>\n",
       "  <tbody>\n",
       "    <tr>\n",
       "      <th>0</th>\n",
       "      <td>335982</td>\n",
       "      <td>AA Noffke</td>\n",
       "      <td>RCB</td>\n",
       "      <td>9</td>\n",
       "    </tr>\n",
       "    <tr>\n",
       "      <th>1</th>\n",
       "      <td>335982</td>\n",
       "      <td>B Akhil</td>\n",
       "      <td>RCB</td>\n",
       "      <td>0</td>\n",
       "    </tr>\n",
       "    <tr>\n",
       "      <th>2</th>\n",
       "      <td>335982</td>\n",
       "      <td>BB McCullum</td>\n",
       "      <td>KKR</td>\n",
       "      <td>158</td>\n",
       "    </tr>\n",
       "    <tr>\n",
       "      <th>3</th>\n",
       "      <td>335982</td>\n",
       "      <td>CL White</td>\n",
       "      <td>RCB</td>\n",
       "      <td>6</td>\n",
       "    </tr>\n",
       "    <tr>\n",
       "      <th>4</th>\n",
       "      <td>335982</td>\n",
       "      <td>DJ Hussey</td>\n",
       "      <td>KKR</td>\n",
       "      <td>12</td>\n",
       "    </tr>\n",
       "    <tr>\n",
       "      <th>5</th>\n",
       "      <td>335982</td>\n",
       "      <td>JH Kallis</td>\n",
       "      <td>RCB</td>\n",
       "      <td>8</td>\n",
       "    </tr>\n",
       "    <tr>\n",
       "      <th>6</th>\n",
       "      <td>335982</td>\n",
       "      <td>MV Boucher</td>\n",
       "      <td>RCB</td>\n",
       "      <td>7</td>\n",
       "    </tr>\n",
       "    <tr>\n",
       "      <th>7</th>\n",
       "      <td>335982</td>\n",
       "      <td>Mohammad Hafeez</td>\n",
       "      <td>KKR</td>\n",
       "      <td>5</td>\n",
       "    </tr>\n",
       "    <tr>\n",
       "      <th>8</th>\n",
       "      <td>335982</td>\n",
       "      <td>P Kumar</td>\n",
       "      <td>RCB</td>\n",
       "      <td>18</td>\n",
       "    </tr>\n",
       "    <tr>\n",
       "      <th>9</th>\n",
       "      <td>335982</td>\n",
       "      <td>R Dravid</td>\n",
       "      <td>RCB</td>\n",
       "      <td>2</td>\n",
       "    </tr>\n",
       "  </tbody>\n",
       "</table>\n",
       "</div>"
      ],
      "text/plain": [
       "       ID           batter BattingTeam  batsman_run\n",
       "0  335982        AA Noffke         RCB            9\n",
       "1  335982          B Akhil         RCB            0\n",
       "2  335982      BB McCullum         KKR          158\n",
       "3  335982         CL White         RCB            6\n",
       "4  335982        DJ Hussey         KKR           12\n",
       "5  335982        JH Kallis         RCB            8\n",
       "6  335982       MV Boucher         RCB            7\n",
       "7  335982  Mohammad Hafeez         KKR            5\n",
       "8  335982          P Kumar         RCB           18\n",
       "9  335982         R Dravid         RCB            2"
      ]
     },
     "execution_count": 65,
     "metadata": {},
     "output_type": "execute_result"
    }
   ],
   "source": [
    "grp.head(10)"
   ]
  },
  {
   "cell_type": "code",
   "execution_count": 66,
   "id": "33fb80e0",
   "metadata": {},
   "outputs": [
    {
     "data": {
      "text/html": [
       "<div>\n",
       "<style scoped>\n",
       "    .dataframe tbody tr th:only-of-type {\n",
       "        vertical-align: middle;\n",
       "    }\n",
       "\n",
       "    .dataframe tbody tr th {\n",
       "        vertical-align: top;\n",
       "    }\n",
       "\n",
       "    .dataframe thead th {\n",
       "        text-align: right;\n",
       "    }\n",
       "</style>\n",
       "<table border=\"1\" class=\"dataframe\">\n",
       "  <thead>\n",
       "    <tr style=\"text-align: right;\">\n",
       "      <th></th>\n",
       "      <th>batter</th>\n",
       "      <th>max_runs</th>\n",
       "    </tr>\n",
       "  </thead>\n",
       "  <tbody>\n",
       "    <tr>\n",
       "      <th>0</th>\n",
       "      <td>A Ashish Reddy</td>\n",
       "      <td>36</td>\n",
       "    </tr>\n",
       "    <tr>\n",
       "      <th>1</th>\n",
       "      <td>A Badoni</td>\n",
       "      <td>54</td>\n",
       "    </tr>\n",
       "    <tr>\n",
       "      <th>2</th>\n",
       "      <td>A Chandila</td>\n",
       "      <td>4</td>\n",
       "    </tr>\n",
       "    <tr>\n",
       "      <th>3</th>\n",
       "      <td>A Chopra</td>\n",
       "      <td>24</td>\n",
       "    </tr>\n",
       "    <tr>\n",
       "      <th>4</th>\n",
       "      <td>A Choudhary</td>\n",
       "      <td>15</td>\n",
       "    </tr>\n",
       "  </tbody>\n",
       "</table>\n",
       "</div>"
      ],
      "text/plain": [
       "           batter  max_runs\n",
       "0  A Ashish Reddy        36\n",
       "1        A Badoni        54\n",
       "2      A Chandila         4\n",
       "3        A Chopra        24\n",
       "4     A Choudhary        15"
      ]
     },
     "execution_count": 66,
     "metadata": {},
     "output_type": "execute_result"
    }
   ],
   "source": [
    "# CALCULATING THE MAXIMUM RUNS SCORED BY THE BATTER\n",
    "max=grp.groupby('batter')['batsman_run'].max().reset_index()\n",
    "max.columns=['batter','max_runs']\n",
    "max.head()"
   ]
  },
  {
   "cell_type": "code",
   "execution_count": 67,
   "id": "94fd4ce9",
   "metadata": {},
   "outputs": [
    {
     "data": {
      "text/html": [
       "<div>\n",
       "<style scoped>\n",
       "    .dataframe tbody tr th:only-of-type {\n",
       "        vertical-align: middle;\n",
       "    }\n",
       "\n",
       "    .dataframe tbody tr th {\n",
       "        vertical-align: top;\n",
       "    }\n",
       "\n",
       "    .dataframe thead th {\n",
       "        text-align: right;\n",
       "    }\n",
       "</style>\n",
       "<table border=\"1\" class=\"dataframe\">\n",
       "  <thead>\n",
       "    <tr style=\"text-align: right;\">\n",
       "      <th></th>\n",
       "      <th>batter</th>\n",
       "      <th>batsman_run</th>\n",
       "      <th>ballnumber</th>\n",
       "      <th>4s</th>\n",
       "      <th>6s</th>\n",
       "      <th>strike_rate</th>\n",
       "    </tr>\n",
       "  </thead>\n",
       "  <tbody>\n",
       "    <tr>\n",
       "      <th>0</th>\n",
       "      <td>A Ashish Reddy</td>\n",
       "      <td>280</td>\n",
       "      <td>196</td>\n",
       "      <td>16.0</td>\n",
       "      <td>15.0</td>\n",
       "      <td>142.857143</td>\n",
       "    </tr>\n",
       "    <tr>\n",
       "      <th>1</th>\n",
       "      <td>A Badoni</td>\n",
       "      <td>161</td>\n",
       "      <td>139</td>\n",
       "      <td>11.0</td>\n",
       "      <td>7.0</td>\n",
       "      <td>115.827338</td>\n",
       "    </tr>\n",
       "    <tr>\n",
       "      <th>2</th>\n",
       "      <td>A Chandila</td>\n",
       "      <td>4</td>\n",
       "      <td>7</td>\n",
       "      <td>7.0</td>\n",
       "      <td>1.0</td>\n",
       "      <td>57.142857</td>\n",
       "    </tr>\n",
       "    <tr>\n",
       "      <th>3</th>\n",
       "      <td>A Chopra</td>\n",
       "      <td>53</td>\n",
       "      <td>75</td>\n",
       "      <td>1.0</td>\n",
       "      <td>2.0</td>\n",
       "      <td>70.666667</td>\n",
       "    </tr>\n",
       "    <tr>\n",
       "      <th>4</th>\n",
       "      <td>A Choudhary</td>\n",
       "      <td>25</td>\n",
       "      <td>20</td>\n",
       "      <td>5.0</td>\n",
       "      <td>3.0</td>\n",
       "      <td>125.000000</td>\n",
       "    </tr>\n",
       "  </tbody>\n",
       "</table>\n",
       "</div>"
      ],
      "text/plain": [
       "           batter  batsman_run  ballnumber    4s    6s  strike_rate\n",
       "0  A Ashish Reddy          280         196  16.0  15.0   142.857143\n",
       "1        A Badoni          161         139  11.0   7.0   115.827338\n",
       "2      A Chandila            4           7   7.0   1.0    57.142857\n",
       "3        A Chopra           53          75   1.0   2.0    70.666667\n",
       "4     A Choudhary           25          20   5.0   3.0   125.000000"
      ]
     },
     "execution_count": 67,
     "metadata": {},
     "output_type": "execute_result"
    }
   ],
   "source": [
    "# MERGING THE MAX DATFRAME WITH PLAYER ON 'BATTER' KEY\n",
    "player.merge(max, how='inner', on='batter') \n",
    "player.head()"
   ]
  },
  {
   "cell_type": "markdown",
   "id": "926232e1",
   "metadata": {},
   "source": [
    "<h2 style=\"color:#00008b;\">Q1. WHICH BATTER HOLDS THE RECORD FOR MOST RUNS IN IPL?</h2>"
   ]
  },
  {
   "cell_type": "code",
   "execution_count": 68,
   "id": "0d163f79",
   "metadata": {},
   "outputs": [],
   "source": [
    "best_bastman=player.groupby('batter')['batsman_run'].sum().sort_values(ascending=False)"
   ]
  },
  {
   "cell_type": "code",
   "execution_count": 87,
   "id": "47a6b914",
   "metadata": {},
   "outputs": [
    {
     "data": {
      "text/plain": [
       "<AxesSubplot:xlabel='batter'>"
      ]
     },
     "execution_count": 87,
     "metadata": {},
     "output_type": "execute_result"
    },
    {
     "data": {
      "image/png": "[encoded data removed]",
      "text/plain": [
       "<Figure size 640x480 with 1 Axes>"
      ]
     },
     "metadata": {},
     "output_type": "display_data"
    }
   ],
   "source": [
    "best_bastman[:10].plot(kind='bar',color=colors[::-1],width=0.8)"
   ]
  },
  {
   "cell_type": "markdown",
   "id": "e825d3cc",
   "metadata": {},
   "source": [
    "<p style=\"color:red;\"><b>CONCLUSION :</b> </p>VIRAT KOHLI HAS SCORED THE HIGHEST NUMBER OF RUNS IN IPL (2008-2022), AMOUNTING TO A TOTAL OF 6634. "
   ]
  },
  {
   "cell_type": "markdown",
   "id": "e3e78f83",
   "metadata": {},
   "source": [
    "<h2 style=\"color:#00008b;\"> Q2. WHAT IS THE HIGHEST INDIVIDUAL RUNS SCORED BY A PLAYER IN IPL? </h2>"
   ]
  },
  {
   "cell_type": "code",
   "execution_count": 70,
   "id": "e6e7ab62",
   "metadata": {},
   "outputs": [
    {
     "data": {
      "text/html": [
       "<div>\n",
       "<style scoped>\n",
       "    .dataframe tbody tr th:only-of-type {\n",
       "        vertical-align: middle;\n",
       "    }\n",
       "\n",
       "    .dataframe tbody tr th {\n",
       "        vertical-align: top;\n",
       "    }\n",
       "\n",
       "    .dataframe thead th {\n",
       "        text-align: right;\n",
       "    }\n",
       "</style>\n",
       "<table border=\"1\" class=\"dataframe\">\n",
       "  <thead>\n",
       "    <tr style=\"text-align: right;\">\n",
       "      <th></th>\n",
       "      <th>ID</th>\n",
       "      <th>batter</th>\n",
       "      <th>BattingTeam</th>\n",
       "      <th>batsman_run</th>\n",
       "    </tr>\n",
       "  </thead>\n",
       "  <tbody>\n",
       "    <tr>\n",
       "      <th>5302</th>\n",
       "      <td>598027</td>\n",
       "      <td>CH Gayle</td>\n",
       "      <td>RCB</td>\n",
       "      <td>175</td>\n",
       "    </tr>\n",
       "    <tr>\n",
       "      <th>2</th>\n",
       "      <td>335982</td>\n",
       "      <td>BB McCullum</td>\n",
       "      <td>KKR</td>\n",
       "      <td>158</td>\n",
       "    </tr>\n",
       "    <tr>\n",
       "      <th>14108</th>\n",
       "      <td>1304112</td>\n",
       "      <td>Q de Kock</td>\n",
       "      <td>LSG</td>\n",
       "      <td>140</td>\n",
       "    </tr>\n",
       "    <tr>\n",
       "      <th>7528</th>\n",
       "      <td>829795</td>\n",
       "      <td>AB de Villiers</td>\n",
       "      <td>RCB</td>\n",
       "      <td>133</td>\n",
       "    </tr>\n",
       "    <tr>\n",
       "      <th>11583</th>\n",
       "      <td>1216510</td>\n",
       "      <td>KL Rahul</td>\n",
       "      <td>KXIP</td>\n",
       "      <td>132</td>\n",
       "    </tr>\n",
       "    <tr>\n",
       "      <th>8359</th>\n",
       "      <td>980987</td>\n",
       "      <td>AB de Villiers</td>\n",
       "      <td>RCB</td>\n",
       "      <td>129</td>\n",
       "    </tr>\n",
       "    <tr>\n",
       "      <th>10149</th>\n",
       "      <td>1136602</td>\n",
       "      <td>RR Pant</td>\n",
       "      <td>DD</td>\n",
       "      <td>128</td>\n",
       "    </tr>\n",
       "    <tr>\n",
       "      <th>4687</th>\n",
       "      <td>548372</td>\n",
       "      <td>CH Gayle</td>\n",
       "      <td>RCB</td>\n",
       "      <td>128</td>\n",
       "    </tr>\n",
       "    <tr>\n",
       "      <th>2237</th>\n",
       "      <td>419137</td>\n",
       "      <td>M Vijay</td>\n",
       "      <td>CSK</td>\n",
       "      <td>127</td>\n",
       "    </tr>\n",
       "    <tr>\n",
       "      <th>9146</th>\n",
       "      <td>1082627</td>\n",
       "      <td>DA Warner</td>\n",
       "      <td>SRH</td>\n",
       "      <td>126</td>\n",
       "    </tr>\n",
       "  </tbody>\n",
       "</table>\n",
       "</div>"
      ],
      "text/plain": [
       "            ID          batter BattingTeam  batsman_run\n",
       "5302    598027        CH Gayle         RCB          175\n",
       "2       335982     BB McCullum         KKR          158\n",
       "14108  1304112       Q de Kock         LSG          140\n",
       "7528    829795  AB de Villiers         RCB          133\n",
       "11583  1216510        KL Rahul        KXIP          132\n",
       "8359    980987  AB de Villiers         RCB          129\n",
       "10149  1136602         RR Pant          DD          128\n",
       "4687    548372        CH Gayle         RCB          128\n",
       "2237    419137         M Vijay         CSK          127\n",
       "9146   1082627       DA Warner         SRH          126"
      ]
     },
     "execution_count": 70,
     "metadata": {},
     "output_type": "execute_result"
    }
   ],
   "source": [
    "df.groupby(['ID','batter','BattingTeam'])['batsman_run'].sum().reset_index().sort_values(by='batsman_run',ascending=False).head(10)"
   ]
  },
  {
   "cell_type": "markdown",
   "id": "5dc2e9a9",
   "metadata": {},
   "source": [
    "<p style=\"color:red;\"><b>CONCLUSION :</b> </p> CHRIS GAYLE SCORED THE HIGHEST INDIVIDUAL RUN (175) AGAINST PWI.  "
   ]
  },
  {
   "cell_type": "markdown",
   "id": "a872486c",
   "metadata": {},
   "source": [
    "## STEP 8: FINDING INSIGHTS WITHIN BOWLER DATA"
   ]
  },
  {
   "cell_type": "code",
   "execution_count": 73,
   "id": "31f783b2",
   "metadata": {},
   "outputs": [],
   "source": [
    "# FILTERING THE DISMISSALS\n",
    "df['kind'].unique()\n",
    "dismissal_kind=['caught', 'bowled','lbw', 'caught and bowled','stumped', 'hit wicket']\n",
    "bowler=df[df['kind'].isin(dismissal_kind)]"
   ]
  },
  {
   "cell_type": "code",
   "execution_count": 74,
   "id": "d316d8db",
   "metadata": {},
   "outputs": [
    {
     "data": {
      "text/html": [
       "<div>\n",
       "<style scoped>\n",
       "    .dataframe tbody tr th:only-of-type {\n",
       "        vertical-align: middle;\n",
       "    }\n",
       "\n",
       "    .dataframe tbody tr th {\n",
       "        vertical-align: top;\n",
       "    }\n",
       "\n",
       "    .dataframe thead th {\n",
       "        text-align: right;\n",
       "    }\n",
       "</style>\n",
       "<table border=\"1\" class=\"dataframe\">\n",
       "  <thead>\n",
       "    <tr style=\"text-align: right;\">\n",
       "      <th></th>\n",
       "      <th>ID</th>\n",
       "      <th>innings</th>\n",
       "      <th>overs</th>\n",
       "      <th>ballnumber</th>\n",
       "      <th>batter</th>\n",
       "      <th>bowler</th>\n",
       "      <th>non-striker</th>\n",
       "      <th>extra_type</th>\n",
       "      <th>batsman_run</th>\n",
       "      <th>extras_run</th>\n",
       "      <th>total_run</th>\n",
       "      <th>non_boundary</th>\n",
       "      <th>isWicketDelivery</th>\n",
       "      <th>player_out</th>\n",
       "      <th>kind</th>\n",
       "      <th>fielders_involved</th>\n",
       "      <th>BattingTeam</th>\n",
       "    </tr>\n",
       "  </thead>\n",
       "  <tbody>\n",
       "    <tr>\n",
       "      <th>23</th>\n",
       "      <td>1312200</td>\n",
       "      <td>1</td>\n",
       "      <td>3</td>\n",
       "      <td>6</td>\n",
       "      <td>YBK Jaiswal</td>\n",
       "      <td>Yash Dayal</td>\n",
       "      <td>JC Buttler</td>\n",
       "      <td>NaN</td>\n",
       "      <td>0</td>\n",
       "      <td>0</td>\n",
       "      <td>0</td>\n",
       "      <td>0</td>\n",
       "      <td>1</td>\n",
       "      <td>YBK Jaiswal</td>\n",
       "      <td>caught</td>\n",
       "      <td>R Sai Kishore</td>\n",
       "      <td>RR</td>\n",
       "    </tr>\n",
       "    <tr>\n",
       "      <th>49</th>\n",
       "      <td>1312200</td>\n",
       "      <td>1</td>\n",
       "      <td>8</td>\n",
       "      <td>2</td>\n",
       "      <td>SV Samson</td>\n",
       "      <td>HH Pandya</td>\n",
       "      <td>JC Buttler</td>\n",
       "      <td>NaN</td>\n",
       "      <td>0</td>\n",
       "      <td>0</td>\n",
       "      <td>0</td>\n",
       "      <td>0</td>\n",
       "      <td>1</td>\n",
       "      <td>SV Samson</td>\n",
       "      <td>caught</td>\n",
       "      <td>R Sai Kishore</td>\n",
       "      <td>RR</td>\n",
       "    </tr>\n",
       "    <tr>\n",
       "      <th>70</th>\n",
       "      <td>1312200</td>\n",
       "      <td>1</td>\n",
       "      <td>11</td>\n",
       "      <td>5</td>\n",
       "      <td>D Padikkal</td>\n",
       "      <td>Rashid Khan</td>\n",
       "      <td>JC Buttler</td>\n",
       "      <td>NaN</td>\n",
       "      <td>0</td>\n",
       "      <td>0</td>\n",
       "      <td>0</td>\n",
       "      <td>0</td>\n",
       "      <td>1</td>\n",
       "      <td>D Padikkal</td>\n",
       "      <td>caught</td>\n",
       "      <td>Mohammed Shami</td>\n",
       "      <td>RR</td>\n",
       "    </tr>\n",
       "    <tr>\n",
       "      <th>72</th>\n",
       "      <td>1312200</td>\n",
       "      <td>1</td>\n",
       "      <td>12</td>\n",
       "      <td>1</td>\n",
       "      <td>JC Buttler</td>\n",
       "      <td>HH Pandya</td>\n",
       "      <td>SO Hetmyer</td>\n",
       "      <td>NaN</td>\n",
       "      <td>0</td>\n",
       "      <td>0</td>\n",
       "      <td>0</td>\n",
       "      <td>0</td>\n",
       "      <td>1</td>\n",
       "      <td>JC Buttler</td>\n",
       "      <td>caught</td>\n",
       "      <td>WP Saha</td>\n",
       "      <td>RR</td>\n",
       "    </tr>\n",
       "    <tr>\n",
       "      <th>89</th>\n",
       "      <td>1312200</td>\n",
       "      <td>1</td>\n",
       "      <td>14</td>\n",
       "      <td>6</td>\n",
       "      <td>SO Hetmyer</td>\n",
       "      <td>HH Pandya</td>\n",
       "      <td>R Ashwin</td>\n",
       "      <td>NaN</td>\n",
       "      <td>0</td>\n",
       "      <td>0</td>\n",
       "      <td>0</td>\n",
       "      <td>0</td>\n",
       "      <td>1</td>\n",
       "      <td>SO Hetmyer</td>\n",
       "      <td>caught and bowled</td>\n",
       "      <td>NaN</td>\n",
       "      <td>RR</td>\n",
       "    </tr>\n",
       "  </tbody>\n",
       "</table>\n",
       "</div>"
      ],
      "text/plain": [
       "         ID  innings  overs  ballnumber       batter       bowler non-striker  \\\n",
       "23  1312200        1      3           6  YBK Jaiswal   Yash Dayal  JC Buttler   \n",
       "49  1312200        1      8           2    SV Samson    HH Pandya  JC Buttler   \n",
       "70  1312200        1     11           5   D Padikkal  Rashid Khan  JC Buttler   \n",
       "72  1312200        1     12           1   JC Buttler    HH Pandya  SO Hetmyer   \n",
       "89  1312200        1     14           6   SO Hetmyer    HH Pandya    R Ashwin   \n",
       "\n",
       "   extra_type  batsman_run  extras_run  total_run  non_boundary  \\\n",
       "23        NaN            0           0          0             0   \n",
       "49        NaN            0           0          0             0   \n",
       "70        NaN            0           0          0             0   \n",
       "72        NaN            0           0          0             0   \n",
       "89        NaN            0           0          0             0   \n",
       "\n",
       "    isWicketDelivery   player_out               kind fielders_involved  \\\n",
       "23                 1  YBK Jaiswal             caught     R Sai Kishore   \n",
       "49                 1    SV Samson             caught     R Sai Kishore   \n",
       "70                 1   D Padikkal             caught    Mohammed Shami   \n",
       "72                 1   JC Buttler             caught           WP Saha   \n",
       "89                 1   SO Hetmyer  caught and bowled               NaN   \n",
       "\n",
       "   BattingTeam  \n",
       "23          RR  \n",
       "49          RR  \n",
       "70          RR  \n",
       "72          RR  \n",
       "89          RR  "
      ]
     },
     "execution_count": 74,
     "metadata": {},
     "output_type": "execute_result"
    }
   ],
   "source": [
    "bowler.head()"
   ]
  },
  {
   "cell_type": "markdown",
   "id": "90f1b038",
   "metadata": {},
   "source": [
    "<h2 style=\"color:#00008b;\">Q1. WHO IS THE HIGHEST WICKET TAKING BOWLER IN IPL?</h2>"
   ]
  },
  {
   "cell_type": "code",
   "execution_count": 75,
   "id": "ae9086f3",
   "metadata": {},
   "outputs": [
    {
     "data": {
      "text/plain": [
       "<AxesSubplot:>"
      ]
     },
     "execution_count": 75,
     "metadata": {},
     "output_type": "execute_result"
    },
    {
     "data": {
      "image/png": "[encoded data removed]",
      "text/plain": [
       "<Figure size 640x480 with 1 Axes>"
      ]
     },
     "metadata": {},
     "output_type": "display_data"
    }
   ],
   "source": [
    "bowler['bowler'].value_counts()[:10].plot.bar(color=colors)"
   ]
  },
  {
   "cell_type": "code",
   "execution_count": 76,
   "id": "51b03c84",
   "metadata": {},
   "outputs": [
    {
     "data": {
      "text/plain": [
       "bowler\n",
       "DJ Bravo        183\n",
       "SL Malinga      170\n",
       "YS Chahal       166\n",
       "A Mishra        166\n",
       "R Ashwin        157\n",
       "               ... \n",
       "D Salunkhe        1\n",
       "AC Gilchrist      1\n",
       "DB Ravi Teja      1\n",
       "TP Sudhindra      1\n",
       "LMP Simmons       1\n",
       "Name: kind, Length: 404, dtype: int64"
      ]
     },
     "execution_count": 76,
     "metadata": {},
     "output_type": "execute_result"
    }
   ],
   "source": [
    "bowler.groupby('bowler')['kind'].count().sort_values(ascending=False)"
   ]
  },
  {
   "cell_type": "markdown",
   "id": "ad75ddb6",
   "metadata": {},
   "source": [
    "<p style=\"color:red;\"><b>CONCLUSION :</b> </p> DWAYNE BRAVO HOLDS THE RECORD FOR HIGHEST WICKET TAKING BOWLER"
   ]
  },
  {
   "cell_type": "markdown",
   "id": "ae9e0d17",
   "metadata": {},
   "source": [
    "<h2 style=\"color:#00008b;\">Q2. WHICH BOWLER HAS THE BEST BOWLING AVERAGE FROM THE TOP WICKET TAKING BOWLERS</h2>"
   ]
  },
  {
   "cell_type": "code",
   "execution_count": 77,
   "id": "6aaa7cb8",
   "metadata": {},
   "outputs": [
    {
     "data": {
      "text/html": [
       "<div>\n",
       "<style scoped>\n",
       "    .dataframe tbody tr th:only-of-type {\n",
       "        vertical-align: middle;\n",
       "    }\n",
       "\n",
       "    .dataframe tbody tr th {\n",
       "        vertical-align: top;\n",
       "    }\n",
       "\n",
       "    .dataframe thead th {\n",
       "        text-align: right;\n",
       "    }\n",
       "</style>\n",
       "<table border=\"1\" class=\"dataframe\">\n",
       "  <thead>\n",
       "    <tr style=\"text-align: right;\">\n",
       "      <th></th>\n",
       "      <th>bowler</th>\n",
       "      <th>kind</th>\n",
       "    </tr>\n",
       "  </thead>\n",
       "  <tbody>\n",
       "    <tr>\n",
       "      <th>0</th>\n",
       "      <td>DJ Bravo</td>\n",
       "      <td>183</td>\n",
       "    </tr>\n",
       "    <tr>\n",
       "      <th>1</th>\n",
       "      <td>SL Malinga</td>\n",
       "      <td>170</td>\n",
       "    </tr>\n",
       "    <tr>\n",
       "      <th>2</th>\n",
       "      <td>YS Chahal</td>\n",
       "      <td>166</td>\n",
       "    </tr>\n",
       "    <tr>\n",
       "      <th>3</th>\n",
       "      <td>A Mishra</td>\n",
       "      <td>166</td>\n",
       "    </tr>\n",
       "    <tr>\n",
       "      <th>4</th>\n",
       "      <td>R Ashwin</td>\n",
       "      <td>157</td>\n",
       "    </tr>\n",
       "  </tbody>\n",
       "</table>\n",
       "</div>"
      ],
      "text/plain": [
       "       bowler  kind\n",
       "0    DJ Bravo   183\n",
       "1  SL Malinga   170\n",
       "2   YS Chahal   166\n",
       "3    A Mishra   166\n",
       "4    R Ashwin   157"
      ]
     },
     "execution_count": 77,
     "metadata": {},
     "output_type": "execute_result"
    }
   ],
   "source": [
    "bowler=bowler.groupby('bowler')['kind'].count().sort_values(ascending=False)\n",
    "bowlers_df=bowler.to_frame()\n",
    "bowlers_df=bowlers_df.reset_index()\n",
    "bowlers_df=bowlers_df[:5]\n",
    "bowlers_df.head()"
   ]
  },
  {
   "cell_type": "code",
   "execution_count": 78,
   "id": "eed1a89d",
   "metadata": {},
   "outputs": [],
   "source": [
    "bowlers_list=bowlers_df['bowler'].unique()"
   ]
  },
  {
   "cell_type": "code",
   "execution_count": 80,
   "id": "b43320df",
   "metadata": {},
   "outputs": [
    {
     "name": "stdout",
     "output_type": "stream",
     "text": [
      "The bowling average for DJ Bravo is 20.18\n",
      "The bowling average for SL Malinga is 16.99\n",
      "The bowling average for YS Chahal is 20.49\n",
      "The bowling average for A Mishra is 22.27\n",
      "The bowling average for R Ashwin is 25.21\n"
     ]
    }
   ],
   "source": [
    "bowlers_list\n",
    "\n",
    "for bowler in bowlers_list:\n",
    "    bowler_deliveries = df[df[\"bowler\"] == bowler]\n",
    "    total_runs_conceded = bowler_deliveries[\"total_run\"].sum() - bowler_deliveries[\"extras_run\"].sum()\n",
    "    total_wickets_taken = bowler_deliveries[bowler_deliveries[\"isWicketDelivery\"] == True].shape[0]\n",
    "    bowling_average = total_runs_conceded / total_wickets_taken\n",
    "    print(f\"The bowling average for {bowler} is {bowling_average:.2f}\")\n"
   ]
  },
  {
   "cell_type": "markdown",
   "id": "458a828b",
   "metadata": {},
   "source": [
    "<p style=\"color:red;\"><b>CONCLUSION :</b> </p> R ASHWIN HAS THE BEST BWLING AVERAGE AMONG THE TOP 5 BOWLERS OF IPL "
   ]
  }
 ],
 "metadata": {
  "kernelspec": {
   "display_name": "Python 3 (ipykernel)",
   "language": "python",
   "name": "python3"
  },
  "language_info": {
   "codemirror_mode": {
    "name": "ipython",
    "version": 3
   },
   "file_extension": ".py",
   "mimetype": "text/x-python",
   "name": "python",
   "nbconvert_exporter": "python",
   "pygments_lexer": "ipython3",
   "version": "3.9.13"
  }
 },
 "nbformat": 4,
 "nbformat_minor": 5
}
